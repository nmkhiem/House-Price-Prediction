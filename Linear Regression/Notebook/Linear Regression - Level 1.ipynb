{
 "cells": [
  {
   "cell_type": "markdown",
   "id": "98a84da9",
   "metadata": {},
   "source": [
    "# Project Description: Dự Đoán Giá Nhà\n",
    "\n",
    "## Mô tả dữ liệu:\n",
    "\n",
    "Dataset bao gồm 100 hàng và ba cột:\n",
    "\n",
    "1. Width: Chiều rộng của ngôi nhà (tính bằng mét).\n",
    "\n",
    "2. Length: Chiều dài của ngôi nhà (tính bằng mét).\n",
    "\n",
    "3. Price: Giá bán của ngôi nhà (tính bằng triệu VND).\n",
    "\n",
    "## Mục tiêu:\n",
    "\n",
    "Xây dựng một mô hình Linear Regression dự đoán giá nhà dựa trên các đặc trưng về kích thước nhà, bao gồm chiều rộng (width) và chiều dài (length)."
   ]
  },
  {
   "cell_type": "markdown",
   "id": "b149df8c",
   "metadata": {},
   "source": [
    "## Level 1 : Sử dụng nghiệm chính xác"
   ]
  },
  {
   "cell_type": "code",
   "execution_count": null,
   "id": "f2f59e86",
   "metadata": {},
   "outputs": [],
   "source": [
    "import pandas as pd                                    # thư viện dùng để đọc, tạo df, ...\n",
    "import numpy as np                                     # thư viện dùng cho tính toán, ma trận, vector, mảng, ...\n",
    "import matplotlib.pyplot as plt                        # thư viện dùng để vẽ hình đơn giản\n",
    "import seaborn as sns                                  # thư viện dùng để vẽ hình đẹp hơn\n",
    "from sklearn.model_selection import train_test_split   # tách thành tập train test theo tỉ lệ bạn cho\n",
    "from sklearn.linear_model import LinearRegression      # thư viện dùng để Linear regression\n",
    "import warnings                                        # xóa cảnh báo\n",
    "warnings.filterwarnings(\"ignore\")"
   ]
  },
  {
   "cell_type": "code",
   "execution_count": 2,
   "id": "887ecdb2",
   "metadata": {},
   "outputs": [
    {
     "ename": "NameError",
     "evalue": "name 'pd' is not defined",
     "output_type": "error",
     "traceback": [
      "\u001b[1;31m---------------------------------------------------------------------------\u001b[0m",
      "\u001b[1;31mNameError\u001b[0m                                 Traceback (most recent call last)",
      "Cell \u001b[1;32mIn[2], line 1\u001b[0m\n\u001b[1;32m----> 1\u001b[0m df \u001b[38;5;241m=\u001b[39m \u001b[43mpd\u001b[49m\u001b[38;5;241m.\u001b[39mread_csv(\u001b[38;5;124m'\u001b[39m\u001b[38;5;124mC:/Users/84909/Linear Regression/Datasets/House_Price_2.csv\u001b[39m\u001b[38;5;124m'\u001b[39m)\n",
      "\u001b[1;31mNameError\u001b[0m: name 'pd' is not defined"
     ]
    }
   ],
   "source": [
    "df = pd.read_csv('C:/Users/84909/Linear Regression/Datasets/House_Price_2.csv') "
   ]
  },
  {
   "cell_type": "markdown",
   "id": "9e81372d",
   "metadata": {},
   "source": [
    "## Descriptive Statistics"
   ]
  },
  {
   "cell_type": "code",
   "execution_count": null,
   "id": "5277a4bb",
   "metadata": {},
   "outputs": [],
   "source": [
    "df.info()"
   ]
  },
  {
   "cell_type": "code",
   "execution_count": 1,
   "id": "a99fd2eb",
   "metadata": {},
   "outputs": [
    {
     "ename": "NameError",
     "evalue": "name 'df' is not defined",
     "output_type": "error",
     "traceback": [
      "\u001b[1;31m---------------------------------------------------------------------------\u001b[0m",
      "\u001b[1;31mNameError\u001b[0m                                 Traceback (most recent call last)",
      "Cell \u001b[1;32mIn[1], line 1\u001b[0m\n\u001b[1;32m----> 1\u001b[0m df[\u001b[38;5;124m'\u001b[39m\u001b[38;5;124mwidth\u001b[39m\u001b[38;5;124m'\u001b[39m] \u001b[38;5;241m=\u001b[39m \u001b[43mdf\u001b[49m[\u001b[38;5;124m'\u001b[39m\u001b[38;5;124mwidth\u001b[39m\u001b[38;5;124m'\u001b[39m]\u001b[38;5;241m.\u001b[39mastype(\u001b[38;5;28mfloat\u001b[39m)\n\u001b[0;32m      3\u001b[0m display(df\u001b[38;5;241m.\u001b[39mdtypes)\n\u001b[0;32m      5\u001b[0m \u001b[38;5;66;03m# converting 'Weight' from float to int\u001b[39;00m\n",
      "\u001b[1;31mNameError\u001b[0m: name 'df' is not defined"
     ]
    }
   ],
   "source": [
    "df['width'] = df['width'].astype(float)\n",
    "\n",
    "display(df.dtypes)\n",
    "\n",
    "# converting 'Weight' from float to int\n",
    "df['length'] = df['length'].astype(float)\n",
    "\n",
    "# displaying the datatypes\n",
    "display(df.dtypes)"
   ]
  },
  {
   "cell_type": "code",
   "execution_count": null,
   "id": "3b46dd32",
   "metadata": {},
   "outputs": [],
   "source": [
    "df.width = pd.to_numeric(df.width, downcast='float')\n",
    "df.length = pd.to_numeric(df.length, downcast='float')"
   ]
  },
  {
   "cell_type": "code",
   "execution_count": null,
   "id": "4f9668dc",
   "metadata": {},
   "outputs": [],
   "source": [
    "X = df[['width','length']]\n",
    "X.shape"
   ]
  },
  {
   "cell_type": "code",
   "execution_count": null,
   "id": "462940a4",
   "metadata": {},
   "outputs": [],
   "source": [
    "y = np.array(df['price']).reshape(100, 1)\n",
    "y.shape"
   ]
  },
  {
   "cell_type": "code",
   "execution_count": null,
   "id": "dc805f38",
   "metadata": {},
   "outputs": [],
   "source": [
    "# Pairplot\n",
    "sns.pairplot(df)\n",
    "plt.show()\n",
    "\n",
    "# Correlation matrix\n",
    "corr_matrix = df.corr()\n",
    "sns.heatmap(corr_matrix, annot=True)\n",
    "plt.show()"
   ]
  },
  {
   "cell_type": "markdown",
   "id": "8cf3d5c9",
   "metadata": {},
   "source": [
    "## Nghiệm chính xác\n",
    "\n",
    "$$\n",
    "  \\theta = (Z^TZ)^{-1}Z^T\\mathrm y\n",
    "$$\n",
    "\n",
    "Với $Z$ là ma trận Vandermonde a.k.a ma trận $X$ thêm một cột bias giá trị 1."
   ]
  },
  {
   "cell_type": "code",
   "execution_count": null,
   "id": "2919bd36",
   "metadata": {},
   "outputs": [],
   "source": [
    "Z = np.concatenate([X, np.ones((X.shape[0], 1))], axis=1)   ## thêm một cột vào sau X và gán vào Z\n",
    "Z[-5:]"
   ]
  },
  {
   "cell_type": "code",
   "execution_count": null,
   "id": "cb8d3b64",
   "metadata": {},
   "outputs": [],
   "source": [
    "np.linalg.inv(Z.T @ Z) @ Z.T @ y"
   ]
  },
  {
   "cell_type": "code",
   "execution_count": null,
   "id": "81c6f568",
   "metadata": {},
   "outputs": [],
   "source": [
    "# theta = np.linalg.inv((Z.T @ Z)) @ Z.T @ y\n",
    "theta = np.dot(np.matmul(np.linalg.inv(Z.T @ Z), Z.T), y)\n",
    "theta"
   ]
  },
  {
   "cell_type": "markdown",
   "id": "6ab5b3f7",
   "metadata": {},
   "source": [
    "Hàm tìm được:\n",
    "\n",
    "$$\n",
    "\\hat{y} =  4992438.83485118*width + 1997577.09722778 *length + 844994.82587483\n",
    "$$"
   ]
  },
  {
   "cell_type": "markdown",
   "id": "0d063556",
   "metadata": {},
   "source": [
    "## Predict"
   ]
  },
  {
   "cell_type": "code",
   "execution_count": null,
   "id": "56ac4bcb",
   "metadata": {},
   "outputs": [],
   "source": [
    "width = 15\n",
    "length = 10"
   ]
  },
  {
   "cell_type": "code",
   "execution_count": null,
   "id": "cd82c89d",
   "metadata": {},
   "outputs": [],
   "source": [
    "theta"
   ]
  },
  {
   "cell_type": "code",
   "execution_count": null,
   "id": "f4c75e30",
   "metadata": {},
   "outputs": [],
   "source": [
    "y_pred = theta[0] * width + theta[1] * length + theta[2]\n",
    "y_pred"
   ]
  },
  {
   "cell_type": "code",
   "execution_count": null,
   "id": "020c27f1",
   "metadata": {},
   "outputs": [],
   "source": [
    "fig = plt.figure(figsize = (10, 8))\n",
    "ax = plt.axes(projection =\"3d\")\n",
    "ax.scatter3D(df.width, df.length, df.price, color = 'gray', s = 100)\n",
    "ax.scatter3D(width, length, y_pred, color = 'red', s = 120)\n",
    "plt.show()"
   ]
  },
  {
   "cell_type": "code",
   "execution_count": null,
   "id": "fd884210",
   "metadata": {},
   "outputs": [],
   "source": [
    "import plotly.graph_objects as go"
   ]
  },
  {
   "cell_type": "code",
   "execution_count": null,
   "id": "30f0789c",
   "metadata": {},
   "outputs": [],
   "source": [
    "# Tạo scatter plot 3D\n",
    "fig = go.Figure()\n",
    "\n",
    "# Vẽ các điểm từ dataframe\n",
    "fig.add_trace(go.Scatter3d(\n",
    "    x=df['width'],\n",
    "    y=df['length'],\n",
    "    z=df['price'],\n",
    "    mode='markers',\n",
    "    marker=dict(size=5, color='blue'),\n",
    "    name='Actual Data'\n",
    "))\n",
    "\n",
    "# Vẽ điểm dự đoán\n",
    "fig.add_trace(go.Scatter3d(\n",
    "    x=[width],\n",
    "    y=[length],\n",
    "    z=[y_pred],\n",
    "    mode='markers',\n",
    "    marker=dict(size=10, color='red', symbol='diamond'),\n",
    "    name='Predicted Value'\n",
    "))\n",
    "\n",
    "# Thêm nhãn cho các trục\n",
    "fig.update_layout(\n",
    "    scene=dict(\n",
    "        xaxis_title='Width',\n",
    "        yaxis_title='Length',\n",
    "        zaxis_title='Price'\n",
    "    ),\n",
    "    title='3D Scatter Plot with Predicted Value'\n",
    ")\n",
    "\n",
    "# Hiển thị biểu đồ\n",
    "fig.show()"
   ]
  }
 ],
 "metadata": {
  "kernelspec": {
   "display_name": "Python 3 (ipykernel)",
   "language": "python",
   "name": "python3"
  },
  "language_info": {
   "codemirror_mode": {
    "name": "ipython",
    "version": 3
   },
   "file_extension": ".py",
   "mimetype": "text/x-python",
   "name": "python",
   "nbconvert_exporter": "python",
   "pygments_lexer": "ipython3",
   "version": "3.9.16"
  }
 },
 "nbformat": 4,
 "nbformat_minor": 5
}
