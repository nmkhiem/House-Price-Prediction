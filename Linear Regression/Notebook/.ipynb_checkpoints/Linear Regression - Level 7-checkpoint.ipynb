{
 "cells": [
  {
   "cell_type": "code",
   "execution_count": 184,
   "id": "14c7e473",
   "metadata": {},
   "outputs": [],
   "source": [
    "import numpy as np                  # tính toán ma trận, vector, mảng, đại số tuyến tính...\n",
    "import pandas as pd                 # hỗ trợ đọc file, tạo dataframe, desciptive statistics,...\n",
    "%matplotlib inline                  \n",
    "import matplotlib.pyplot as plt     # vẽ hình đơn giản\n",
    "import seaborn as sns               # vẽ hình đẹp hơn         \n",
    "import warnings                     # ẩn warnings\n",
    "def ignore_warn(*args, **kwargs):\n",
    "    pass\n",
    "warnings.warn = ignore_warn \n",
    "from scipy import stats             # hỗ trợ các kiểm định, thống kê, xác suất\n",
    "from scipy.stats import norm, skew  # tính các chuẩn, độ lệch"
   ]
  },
  {
   "cell_type": "markdown",
   "id": "fcb9f5a9",
   "metadata": {},
   "source": [
    "## Đọc file\n",
    "\n",
    "Ta có bao gồm 2 file, 1 file train và 1 file test. Tất cả những bước pre-processing, normalize,... làm trên tập train\n",
    "đều phải làm trên tập test để đảm bảo độ công bằng. Do đó về sau ta sẽ thấy có bước gộp train + test -> all_data \n",
    "để xử lý."
   ]
  },
  {
   "cell_type": "code",
   "execution_count": 185,
   "id": "88629c20",
   "metadata": {},
   "outputs": [],
   "source": [
    "# Đọc file train theo đường dẫn lưu trong thư mục\n",
    "train = pd.read_csv('C:/Users/84909/Documents/GitHub/House-Price-Prediction/Linear Regression/Datasets/train.csv')\n",
    "\n",
    "# Đọc file test\n",
    "test = pd.read_csv('C:/Users/84909/Documents/GitHub/House-Price-Prediction/Linear Regression/Datasets/test.csv')"
   ]
  },
  {
   "cell_type": "markdown",
   "id": "9510cc2d",
   "metadata": {},
   "source": [
    "## Descriptive Statistics"
   ]
  },
  {
   "cell_type": "markdown",
   "id": "64640bf0",
   "metadata": {},
   "source": [
    "Ở phần này ta sẽ sử dụng các chỉ số thống kê cơ bản hoặc biểu đồ để có cái nhìn tổng quan về bộ dữ liệu:"
   ]
  },
  {
   "cell_type": "code",
   "execution_count": 186,
   "id": "2f30e06d",
   "metadata": {},
   "outputs": [
    {
     "name": "stdout",
     "output_type": "stream",
     "text": [
      "<class 'pandas.core.frame.DataFrame'>\n",
      "RangeIndex: 1460 entries, 0 to 1459\n",
      "Data columns (total 81 columns):\n",
      " #   Column         Non-Null Count  Dtype  \n",
      "---  ------         --------------  -----  \n",
      " 0   Id             1460 non-null   int64  \n",
      " 1   MSSubClass     1460 non-null   int64  \n",
      " 2   MSZoning       1460 non-null   object \n",
      " 3   LotFrontage    1201 non-null   float64\n",
      " 4   LotArea        1460 non-null   int64  \n",
      " 5   Street         1460 non-null   object \n",
      " 6   Alley          91 non-null     object \n",
      " 7   LotShape       1460 non-null   object \n",
      " 8   LandContour    1460 non-null   object \n",
      " 9   Utilities      1460 non-null   object \n",
      " 10  LotConfig      1460 non-null   object \n",
      " 11  LandSlope      1460 non-null   object \n",
      " 12  Neighborhood   1460 non-null   object \n",
      " 13  Condition1     1460 non-null   object \n",
      " 14  Condition2     1460 non-null   object \n",
      " 15  BldgType       1460 non-null   object \n",
      " 16  HouseStyle     1460 non-null   object \n",
      " 17  OverallQual    1460 non-null   int64  \n",
      " 18  OverallCond    1460 non-null   int64  \n",
      " 19  YearBuilt      1460 non-null   int64  \n",
      " 20  YearRemodAdd   1460 non-null   int64  \n",
      " 21  RoofStyle      1460 non-null   object \n",
      " 22  RoofMatl       1460 non-null   object \n",
      " 23  Exterior1st    1460 non-null   object \n",
      " 24  Exterior2nd    1460 non-null   object \n",
      " 25  MasVnrType     588 non-null    object \n",
      " 26  MasVnrArea     1452 non-null   float64\n",
      " 27  ExterQual      1460 non-null   object \n",
      " 28  ExterCond      1460 non-null   object \n",
      " 29  Foundation     1460 non-null   object \n",
      " 30  BsmtQual       1423 non-null   object \n",
      " 31  BsmtCond       1423 non-null   object \n",
      " 32  BsmtExposure   1422 non-null   object \n",
      " 33  BsmtFinType1   1423 non-null   object \n",
      " 34  BsmtFinSF1     1460 non-null   int64  \n",
      " 35  BsmtFinType2   1422 non-null   object \n",
      " 36  BsmtFinSF2     1460 non-null   int64  \n",
      " 37  BsmtUnfSF      1460 non-null   int64  \n",
      " 38  TotalBsmtSF    1460 non-null   int64  \n",
      " 39  Heating        1460 non-null   object \n",
      " 40  HeatingQC      1460 non-null   object \n",
      " 41  CentralAir     1460 non-null   object \n",
      " 42  Electrical     1459 non-null   object \n",
      " 43  1stFlrSF       1460 non-null   int64  \n",
      " 44  2ndFlrSF       1460 non-null   int64  \n",
      " 45  LowQualFinSF   1460 non-null   int64  \n",
      " 46  GrLivArea      1460 non-null   int64  \n",
      " 47  BsmtFullBath   1460 non-null   int64  \n",
      " 48  BsmtHalfBath   1460 non-null   int64  \n",
      " 49  FullBath       1460 non-null   int64  \n",
      " 50  HalfBath       1460 non-null   int64  \n",
      " 51  BedroomAbvGr   1460 non-null   int64  \n",
      " 52  KitchenAbvGr   1460 non-null   int64  \n",
      " 53  KitchenQual    1460 non-null   object \n",
      " 54  TotRmsAbvGrd   1460 non-null   int64  \n",
      " 55  Functional     1460 non-null   object \n",
      " 56  Fireplaces     1460 non-null   int64  \n",
      " 57  FireplaceQu    770 non-null    object \n",
      " 58  GarageType     1379 non-null   object \n",
      " 59  GarageYrBlt    1379 non-null   float64\n",
      " 60  GarageFinish   1379 non-null   object \n",
      " 61  GarageCars     1460 non-null   int64  \n",
      " 62  GarageArea     1460 non-null   int64  \n",
      " 63  GarageQual     1379 non-null   object \n",
      " 64  GarageCond     1379 non-null   object \n",
      " 65  PavedDrive     1460 non-null   object \n",
      " 66  WoodDeckSF     1460 non-null   int64  \n",
      " 67  OpenPorchSF    1460 non-null   int64  \n",
      " 68  EnclosedPorch  1460 non-null   int64  \n",
      " 69  3SsnPorch      1460 non-null   int64  \n",
      " 70  ScreenPorch    1460 non-null   int64  \n",
      " 71  PoolArea       1460 non-null   int64  \n",
      " 72  PoolQC         7 non-null      object \n",
      " 73  Fence          281 non-null    object \n",
      " 74  MiscFeature    54 non-null     object \n",
      " 75  MiscVal        1460 non-null   int64  \n",
      " 76  MoSold         1460 non-null   int64  \n",
      " 77  YrSold         1460 non-null   int64  \n",
      " 78  SaleType       1460 non-null   object \n",
      " 79  SaleCondition  1460 non-null   object \n",
      " 80  SalePrice      1460 non-null   int64  \n",
      "dtypes: float64(3), int64(35), object(43)\n",
      "memory usage: 924.0+ KB\n"
     ]
    }
   ],
   "source": [
    "train.info()"
   ]
  },
  {
   "cell_type": "code",
   "execution_count": 187,
   "id": "a73228e0",
   "metadata": {},
   "outputs": [
    {
     "data": {
      "text/html": [
       "<div>\n",
       "<style scoped>\n",
       "    .dataframe tbody tr th:only-of-type {\n",
       "        vertical-align: middle;\n",
       "    }\n",
       "\n",
       "    .dataframe tbody tr th {\n",
       "        vertical-align: top;\n",
       "    }\n",
       "\n",
       "    .dataframe thead th {\n",
       "        text-align: right;\n",
       "    }\n",
       "</style>\n",
       "<table border=\"1\" class=\"dataframe\">\n",
       "  <thead>\n",
       "    <tr style=\"text-align: right;\">\n",
       "      <th></th>\n",
       "      <th>Id</th>\n",
       "      <th>MSSubClass</th>\n",
       "      <th>LotFrontage</th>\n",
       "      <th>LotArea</th>\n",
       "      <th>OverallQual</th>\n",
       "      <th>OverallCond</th>\n",
       "      <th>YearBuilt</th>\n",
       "      <th>YearRemodAdd</th>\n",
       "      <th>MasVnrArea</th>\n",
       "      <th>BsmtFinSF1</th>\n",
       "      <th>...</th>\n",
       "      <th>WoodDeckSF</th>\n",
       "      <th>OpenPorchSF</th>\n",
       "      <th>EnclosedPorch</th>\n",
       "      <th>3SsnPorch</th>\n",
       "      <th>ScreenPorch</th>\n",
       "      <th>PoolArea</th>\n",
       "      <th>MiscVal</th>\n",
       "      <th>MoSold</th>\n",
       "      <th>YrSold</th>\n",
       "      <th>SalePrice</th>\n",
       "    </tr>\n",
       "  </thead>\n",
       "  <tbody>\n",
       "    <tr>\n",
       "      <th>count</th>\n",
       "      <td>1460.000000</td>\n",
       "      <td>1460.000000</td>\n",
       "      <td>1201.000000</td>\n",
       "      <td>1460.000000</td>\n",
       "      <td>1460.000000</td>\n",
       "      <td>1460.000000</td>\n",
       "      <td>1460.000000</td>\n",
       "      <td>1460.000000</td>\n",
       "      <td>1452.000000</td>\n",
       "      <td>1460.000000</td>\n",
       "      <td>...</td>\n",
       "      <td>1460.000000</td>\n",
       "      <td>1460.000000</td>\n",
       "      <td>1460.000000</td>\n",
       "      <td>1460.000000</td>\n",
       "      <td>1460.000000</td>\n",
       "      <td>1460.000000</td>\n",
       "      <td>1460.000000</td>\n",
       "      <td>1460.000000</td>\n",
       "      <td>1460.000000</td>\n",
       "      <td>1460.000000</td>\n",
       "    </tr>\n",
       "    <tr>\n",
       "      <th>mean</th>\n",
       "      <td>730.500000</td>\n",
       "      <td>56.897260</td>\n",
       "      <td>70.049958</td>\n",
       "      <td>10516.828082</td>\n",
       "      <td>6.099315</td>\n",
       "      <td>5.575342</td>\n",
       "      <td>1971.267808</td>\n",
       "      <td>1984.865753</td>\n",
       "      <td>103.685262</td>\n",
       "      <td>443.639726</td>\n",
       "      <td>...</td>\n",
       "      <td>94.244521</td>\n",
       "      <td>46.660274</td>\n",
       "      <td>21.954110</td>\n",
       "      <td>3.409589</td>\n",
       "      <td>15.060959</td>\n",
       "      <td>2.758904</td>\n",
       "      <td>43.489041</td>\n",
       "      <td>6.321918</td>\n",
       "      <td>2007.815753</td>\n",
       "      <td>180921.195890</td>\n",
       "    </tr>\n",
       "    <tr>\n",
       "      <th>std</th>\n",
       "      <td>421.610009</td>\n",
       "      <td>42.300571</td>\n",
       "      <td>24.284752</td>\n",
       "      <td>9981.264932</td>\n",
       "      <td>1.382997</td>\n",
       "      <td>1.112799</td>\n",
       "      <td>30.202904</td>\n",
       "      <td>20.645407</td>\n",
       "      <td>181.066207</td>\n",
       "      <td>456.098091</td>\n",
       "      <td>...</td>\n",
       "      <td>125.338794</td>\n",
       "      <td>66.256028</td>\n",
       "      <td>61.119149</td>\n",
       "      <td>29.317331</td>\n",
       "      <td>55.757415</td>\n",
       "      <td>40.177307</td>\n",
       "      <td>496.123024</td>\n",
       "      <td>2.703626</td>\n",
       "      <td>1.328095</td>\n",
       "      <td>79442.502883</td>\n",
       "    </tr>\n",
       "    <tr>\n",
       "      <th>min</th>\n",
       "      <td>1.000000</td>\n",
       "      <td>20.000000</td>\n",
       "      <td>21.000000</td>\n",
       "      <td>1300.000000</td>\n",
       "      <td>1.000000</td>\n",
       "      <td>1.000000</td>\n",
       "      <td>1872.000000</td>\n",
       "      <td>1950.000000</td>\n",
       "      <td>0.000000</td>\n",
       "      <td>0.000000</td>\n",
       "      <td>...</td>\n",
       "      <td>0.000000</td>\n",
       "      <td>0.000000</td>\n",
       "      <td>0.000000</td>\n",
       "      <td>0.000000</td>\n",
       "      <td>0.000000</td>\n",
       "      <td>0.000000</td>\n",
       "      <td>0.000000</td>\n",
       "      <td>1.000000</td>\n",
       "      <td>2006.000000</td>\n",
       "      <td>34900.000000</td>\n",
       "    </tr>\n",
       "    <tr>\n",
       "      <th>25%</th>\n",
       "      <td>365.750000</td>\n",
       "      <td>20.000000</td>\n",
       "      <td>59.000000</td>\n",
       "      <td>7553.500000</td>\n",
       "      <td>5.000000</td>\n",
       "      <td>5.000000</td>\n",
       "      <td>1954.000000</td>\n",
       "      <td>1967.000000</td>\n",
       "      <td>0.000000</td>\n",
       "      <td>0.000000</td>\n",
       "      <td>...</td>\n",
       "      <td>0.000000</td>\n",
       "      <td>0.000000</td>\n",
       "      <td>0.000000</td>\n",
       "      <td>0.000000</td>\n",
       "      <td>0.000000</td>\n",
       "      <td>0.000000</td>\n",
       "      <td>0.000000</td>\n",
       "      <td>5.000000</td>\n",
       "      <td>2007.000000</td>\n",
       "      <td>129975.000000</td>\n",
       "    </tr>\n",
       "    <tr>\n",
       "      <th>50%</th>\n",
       "      <td>730.500000</td>\n",
       "      <td>50.000000</td>\n",
       "      <td>69.000000</td>\n",
       "      <td>9478.500000</td>\n",
       "      <td>6.000000</td>\n",
       "      <td>5.000000</td>\n",
       "      <td>1973.000000</td>\n",
       "      <td>1994.000000</td>\n",
       "      <td>0.000000</td>\n",
       "      <td>383.500000</td>\n",
       "      <td>...</td>\n",
       "      <td>0.000000</td>\n",
       "      <td>25.000000</td>\n",
       "      <td>0.000000</td>\n",
       "      <td>0.000000</td>\n",
       "      <td>0.000000</td>\n",
       "      <td>0.000000</td>\n",
       "      <td>0.000000</td>\n",
       "      <td>6.000000</td>\n",
       "      <td>2008.000000</td>\n",
       "      <td>163000.000000</td>\n",
       "    </tr>\n",
       "    <tr>\n",
       "      <th>75%</th>\n",
       "      <td>1095.250000</td>\n",
       "      <td>70.000000</td>\n",
       "      <td>80.000000</td>\n",
       "      <td>11601.500000</td>\n",
       "      <td>7.000000</td>\n",
       "      <td>6.000000</td>\n",
       "      <td>2000.000000</td>\n",
       "      <td>2004.000000</td>\n",
       "      <td>166.000000</td>\n",
       "      <td>712.250000</td>\n",
       "      <td>...</td>\n",
       "      <td>168.000000</td>\n",
       "      <td>68.000000</td>\n",
       "      <td>0.000000</td>\n",
       "      <td>0.000000</td>\n",
       "      <td>0.000000</td>\n",
       "      <td>0.000000</td>\n",
       "      <td>0.000000</td>\n",
       "      <td>8.000000</td>\n",
       "      <td>2009.000000</td>\n",
       "      <td>214000.000000</td>\n",
       "    </tr>\n",
       "    <tr>\n",
       "      <th>max</th>\n",
       "      <td>1460.000000</td>\n",
       "      <td>190.000000</td>\n",
       "      <td>313.000000</td>\n",
       "      <td>215245.000000</td>\n",
       "      <td>10.000000</td>\n",
       "      <td>9.000000</td>\n",
       "      <td>2010.000000</td>\n",
       "      <td>2010.000000</td>\n",
       "      <td>1600.000000</td>\n",
       "      <td>5644.000000</td>\n",
       "      <td>...</td>\n",
       "      <td>857.000000</td>\n",
       "      <td>547.000000</td>\n",
       "      <td>552.000000</td>\n",
       "      <td>508.000000</td>\n",
       "      <td>480.000000</td>\n",
       "      <td>738.000000</td>\n",
       "      <td>15500.000000</td>\n",
       "      <td>12.000000</td>\n",
       "      <td>2010.000000</td>\n",
       "      <td>755000.000000</td>\n",
       "    </tr>\n",
       "  </tbody>\n",
       "</table>\n",
       "<p>8 rows × 38 columns</p>\n",
       "</div>"
      ],
      "text/plain": [
       "                Id   MSSubClass  LotFrontage        LotArea  OverallQual  \\\n",
       "count  1460.000000  1460.000000  1201.000000    1460.000000  1460.000000   \n",
       "mean    730.500000    56.897260    70.049958   10516.828082     6.099315   \n",
       "std     421.610009    42.300571    24.284752    9981.264932     1.382997   \n",
       "min       1.000000    20.000000    21.000000    1300.000000     1.000000   \n",
       "25%     365.750000    20.000000    59.000000    7553.500000     5.000000   \n",
       "50%     730.500000    50.000000    69.000000    9478.500000     6.000000   \n",
       "75%    1095.250000    70.000000    80.000000   11601.500000     7.000000   \n",
       "max    1460.000000   190.000000   313.000000  215245.000000    10.000000   \n",
       "\n",
       "       OverallCond    YearBuilt  YearRemodAdd   MasVnrArea   BsmtFinSF1  ...  \\\n",
       "count  1460.000000  1460.000000   1460.000000  1452.000000  1460.000000  ...   \n",
       "mean      5.575342  1971.267808   1984.865753   103.685262   443.639726  ...   \n",
       "std       1.112799    30.202904     20.645407   181.066207   456.098091  ...   \n",
       "min       1.000000  1872.000000   1950.000000     0.000000     0.000000  ...   \n",
       "25%       5.000000  1954.000000   1967.000000     0.000000     0.000000  ...   \n",
       "50%       5.000000  1973.000000   1994.000000     0.000000   383.500000  ...   \n",
       "75%       6.000000  2000.000000   2004.000000   166.000000   712.250000  ...   \n",
       "max       9.000000  2010.000000   2010.000000  1600.000000  5644.000000  ...   \n",
       "\n",
       "        WoodDeckSF  OpenPorchSF  EnclosedPorch    3SsnPorch  ScreenPorch  \\\n",
       "count  1460.000000  1460.000000    1460.000000  1460.000000  1460.000000   \n",
       "mean     94.244521    46.660274      21.954110     3.409589    15.060959   \n",
       "std     125.338794    66.256028      61.119149    29.317331    55.757415   \n",
       "min       0.000000     0.000000       0.000000     0.000000     0.000000   \n",
       "25%       0.000000     0.000000       0.000000     0.000000     0.000000   \n",
       "50%       0.000000    25.000000       0.000000     0.000000     0.000000   \n",
       "75%     168.000000    68.000000       0.000000     0.000000     0.000000   \n",
       "max     857.000000   547.000000     552.000000   508.000000   480.000000   \n",
       "\n",
       "          PoolArea       MiscVal       MoSold       YrSold      SalePrice  \n",
       "count  1460.000000   1460.000000  1460.000000  1460.000000    1460.000000  \n",
       "mean      2.758904     43.489041     6.321918  2007.815753  180921.195890  \n",
       "std      40.177307    496.123024     2.703626     1.328095   79442.502883  \n",
       "min       0.000000      0.000000     1.000000  2006.000000   34900.000000  \n",
       "25%       0.000000      0.000000     5.000000  2007.000000  129975.000000  \n",
       "50%       0.000000      0.000000     6.000000  2008.000000  163000.000000  \n",
       "75%       0.000000      0.000000     8.000000  2009.000000  214000.000000  \n",
       "max     738.000000  15500.000000    12.000000  2010.000000  755000.000000  \n",
       "\n",
       "[8 rows x 38 columns]"
      ]
     },
     "execution_count": 187,
     "metadata": {},
     "output_type": "execute_result"
    }
   ],
   "source": [
    "train.describe()"
   ]
  },
  {
   "cell_type": "markdown",
   "id": "73121fc9",
   "metadata": {},
   "source": [
    "Ta thấy rằng cột **Id** chỉ có tác dụng định danh các ngôi nhà, nên việc giữ lại nó để thực hiện thống kê không có ý nghĩa. Ta sẽ lưu nó lại vào một biến riêng."
   ]
  },
  {
   "cell_type": "code",
   "execution_count": 188,
   "id": "7e9b2617",
   "metadata": {},
   "outputs": [],
   "source": [
    "# Lưu lại Id của bộ dữ liệu train\n",
    "train_ID = train['Id']\n",
    "\n",
    "# Lưu lại Id của bộ dữ liệu test\n",
    "test_ID = test['Id']"
   ]
  },
  {
   "cell_type": "markdown",
   "id": "25b62f39",
   "metadata": {},
   "source": [
    "Sau khi lưu lại thì ta có thể tiến hành loại bỏ cột này trong bộ dữ liệu."
   ]
  },
  {
   "cell_type": "code",
   "execution_count": 189,
   "id": "8060fd03",
   "metadata": {},
   "outputs": [
    {
     "name": "stdout",
     "output_type": "stream",
     "text": [
      "\n",
      "The train data size after dropping Id feature is : (1460, 80) \n",
      "The test data size after dropping Id feature is : (1459, 79) \n"
     ]
    }
   ],
   "source": [
    "# Bỏ cột Id, axis = 1 nghĩa là bỏ theo cột, inplace = True là thực hiện luôn\n",
    "train.drop(\"Id\", axis = 1, inplace = True)\n",
    "test.drop(\"Id\", axis = 1, inplace = True)\n",
    "\n",
    "#check again the data size after dropping the 'Id' variable\n",
    "print(\"\\nThe train data size after dropping Id feature is : {} \".format(train.shape)) \n",
    "print(\"The test data size after dropping Id feature is : {} \".format(test.shape))"
   ]
  },
  {
   "cell_type": "markdown",
   "id": "ce34d7a9",
   "metadata": {},
   "source": [
    "Ta có thể thay thế inplace = True bằng câu lệnh:"
   ]
  },
  {
   "cell_type": "code",
   "execution_count": 190,
   "id": "fccd518d",
   "metadata": {},
   "outputs": [],
   "source": [
    "# train = train.drop(\"Id\", axis = 1)"
   ]
  },
  {
   "cell_type": "markdown",
   "id": "e5b9cdcc",
   "metadata": {},
   "source": [
    "Ta có thể thay thế axis = 1 với câu lệnh:"
   ]
  },
  {
   "cell_type": "code",
   "execution_count": 191,
   "id": "ee38f639",
   "metadata": {},
   "outputs": [],
   "source": [
    "# train = train.drop(columns = [\"Id\"])"
   ]
  },
  {
   "cell_type": "markdown",
   "id": "de745dbe",
   "metadata": {},
   "source": [
    "## Tìm hiểu biến mục tiêu"
   ]
  },
  {
   "cell_type": "code",
   "execution_count": 192,
   "id": "400ac0fa",
   "metadata": {},
   "outputs": [
    {
     "data": {
      "text/plain": [
       "count      1460.000000\n",
       "mean     180921.195890\n",
       "std       79442.502883\n",
       "min       34900.000000\n",
       "25%      129975.000000\n",
       "50%      163000.000000\n",
       "75%      214000.000000\n",
       "max      755000.000000\n",
       "Name: SalePrice, dtype: float64"
      ]
     },
     "execution_count": 192,
     "metadata": {},
     "output_type": "execute_result"
    }
   ],
   "source": [
    "train['SalePrice'].describe()"
   ]
  },
  {
   "cell_type": "markdown",
   "id": "07add24c",
   "metadata": {},
   "source": [
    "Ta có thể nhận xét một số thứ như sau:\n",
    "\n",
    "- Min: Không có giá trị âm.\n",
    "\n",
    "- Max: Giá trị max cách khá xa IQR3 (75%) nên ta nghi ngờ sẽ có outlier trong cột này.\n",
    "\n",
    "Để làm rõ điều này, ta có thể vẽ một số biểu đồ để lấy thêm thông tin"
   ]
  },
  {
   "cell_type": "markdown",
   "id": "fba844ad",
   "metadata": {},
   "source": [
    "Ví dụ như ta thử vẽ biểu đồ Scatter plot với một biến mục tiêu mà ta nghĩ nó sẽ giải thích được cho biến **SalePrice**, ở đây tác giả chọn **GrLivArea**."
   ]
  },
  {
   "cell_type": "code",
   "execution_count": 193,
   "id": "2b8d80c9",
   "metadata": {},
   "outputs": [
    {
     "data": {
      "image/png": "[encoded data removed]",
      "text/plain": [
       "<Figure size 640x480 with 1 Axes>"
      ]
     },
     "metadata": {},
     "output_type": "display_data"
    }
   ],
   "source": [
    "plt.scatter(x = train['GrLivArea'], y = train['SalePrice'])\n",
    "plt.ylabel('SalePrice', fontsize=13)\n",
    "plt.xlabel('GrLivArea', fontsize=13)\n",
    "plt.show()"
   ]
  },
  {
   "cell_type": "markdown",
   "id": "67ded233",
   "metadata": {},
   "source": [
    "Ta thấy được rằng có 2 điểm được xem là outlier với chỉ số **GrLivArea** > 4000 nhưng **SalePrice** của nó lại thấp hơn 300000. Đây được xem là điều bất thường, không phải một quy luật tổng quát nên ta sẽ loại bỏ những giá trị này."
   ]
  },
  {
   "cell_type": "code",
   "execution_count": 194,
   "id": "1f2136e4",
   "metadata": {},
   "outputs": [],
   "source": [
    "# Loại bỏ outliers\n",
    "train = train.drop(train[(train['GrLivArea']>4000) & (train['SalePrice']<300000)].index)"
   ]
  },
  {
   "cell_type": "markdown",
   "id": "4b89d3eb",
   "metadata": {},
   "source": [
    "Ta kiểm tra lại biểu đồ một lần nữa chỉ để chắc chắn các outliers đã được loại bỏ."
   ]
  },
  {
   "cell_type": "code",
   "execution_count": 195,
   "id": "c07d2c1f",
   "metadata": {
    "scrolled": false
   },
   "outputs": [
    {
     "data": {
      "image/png": "[encoded data removed]",
      "text/plain": [
       "<Figure size 640x480 with 1 Axes>"
      ]
     },
     "metadata": {},
     "output_type": "display_data"
    }
   ],
   "source": [
    "plt.scatter(train['GrLivArea'], train['SalePrice'])\n",
    "plt.ylabel('SalePrice', fontsize=13)\n",
    "plt.xlabel('GrLivArea', fontsize=13)\n",
    "plt.show()"
   ]
  },
  {
   "cell_type": "markdown",
   "id": "94a9669f",
   "metadata": {},
   "source": [
    "Ngoài ra mình cũng đã viết thêm 1 function (thật ra là nhờ ChatGPT, tuy nhiên cần kiểm tra lại xem nó viết đúng không), với mục đích tự động tìm kiếm outlier và extreme outlier.\n",
    "\n",
    "- Outlier : Vượt ngưỡng 1.5 IQR\n",
    "\n",
    "- Extreme outlier : Vượt ngưỡng 3.0 IQR"
   ]
  },
  {
   "cell_type": "code",
   "execution_count": 196,
   "id": "6f2c069b",
   "metadata": {},
   "outputs": [],
   "source": [
    "def detect_and_calculate_outliers(df):\n",
    "    summary_list = []\n",
    "    \n",
    "    for column in df.select_dtypes(include=['float64', 'int64']).columns:\n",
    "        Q1 = df[column].quantile(0.25)\n",
    "        Q3 = df[column].quantile(0.75)\n",
    "        IQR = Q3 - Q1\n",
    "\n",
    "        outlier_threshold_low = Q1 - 1.5 * IQR\n",
    "        outlier_threshold_high = Q3 + 1.5 * IQR\n",
    "        extreme_outlier_threshold_low = Q1 - 3 * IQR\n",
    "        extreme_outlier_threshold_high = Q3 + 3 * IQR\n",
    "\n",
    "        outliers = df[(df[column] < outlier_threshold_low) | (df[column] > outlier_threshold_high)]\n",
    "        extreme_outliers = df[(df[column] < extreme_outlier_threshold_low) | (df[column] > extreme_outlier_threshold_high)]\n",
    "\n",
    "        outliers_percentage = len(outliers) / len(df) * 100\n",
    "        extreme_outliers_percentage = len(extreme_outliers) / len(df) * 100\n",
    "\n",
    "        summary_list.append({\n",
    "            'Column': column,\n",
    "            'Outliers_Percentage': outliers_percentage,\n",
    "            'Extreme_Outliers_Percentage': extreme_outliers_percentage,\n",
    "            'Outlier_threshold_low' : outlier_threshold_low,\n",
    "            'Outlier_threshold_high' : outlier_threshold_high,\n",
    "            'Extreme_outlier_threshold_low' : extreme_outlier_threshold_low,\n",
    "            'Extreme_outlier_threshold_high' : extreme_outlier_threshold_high\n",
    "        })\n",
    "    \n",
    "    outlier_summary = pd.DataFrame(summary_list)\n",
    "    \n",
    "    # Sort the summary by Outliers_Percentage and Extreme_Outliers_Percentage\n",
    "    outlier_summary = outlier_summary.sort_values(by=['Outliers_Percentage', 'Extreme_Outliers_Percentage'], ascending=False)\n",
    "    \n",
    "    return outlier_summary"
   ]
  },
  {
   "cell_type": "code",
   "execution_count": 197,
   "id": "75329ec3",
   "metadata": {},
   "outputs": [
    {
     "data": {
      "text/html": [
       "<div>\n",
       "<style scoped>\n",
       "    .dataframe tbody tr th:only-of-type {\n",
       "        vertical-align: middle;\n",
       "    }\n",
       "\n",
       "    .dataframe tbody tr th {\n",
       "        vertical-align: top;\n",
       "    }\n",
       "\n",
       "    .dataframe thead th {\n",
       "        text-align: right;\n",
       "    }\n",
       "</style>\n",
       "<table border=\"1\" class=\"dataframe\">\n",
       "  <thead>\n",
       "    <tr style=\"text-align: right;\">\n",
       "      <th></th>\n",
       "      <th>Column</th>\n",
       "      <th>Outliers_Percentage</th>\n",
       "      <th>Extreme_Outliers_Percentage</th>\n",
       "      <th>Outlier_threshold_low</th>\n",
       "      <th>Outlier_threshold_high</th>\n",
       "      <th>Extreme_outlier_threshold_low</th>\n",
       "      <th>Extreme_outlier_threshold_high</th>\n",
       "    </tr>\n",
       "  </thead>\n",
       "  <tbody>\n",
       "    <tr>\n",
       "      <th>0</th>\n",
       "      <td>SalePrice</td>\n",
       "      <td>4.183813</td>\n",
       "      <td>0.823045</td>\n",
       "      <td>3812.5</td>\n",
       "      <td>340112.5</td>\n",
       "      <td>-122300.0</td>\n",
       "      <td>466225.0</td>\n",
       "    </tr>\n",
       "  </tbody>\n",
       "</table>\n",
       "</div>"
      ],
      "text/plain": [
       "      Column  Outliers_Percentage  Extreme_Outliers_Percentage  \\\n",
       "0  SalePrice             4.183813                     0.823045   \n",
       "\n",
       "   Outlier_threshold_low  Outlier_threshold_high  \\\n",
       "0                 3812.5                340112.5   \n",
       "\n",
       "   Extreme_outlier_threshold_low  Extreme_outlier_threshold_high  \n",
       "0                      -122300.0                        466225.0  "
      ]
     },
     "execution_count": 197,
     "metadata": {},
     "output_type": "execute_result"
    }
   ],
   "source": [
    "outlier_summary = detect_and_calculate_outliers(pd.DataFrame(train['SalePrice']))\n",
    "outlier_summary"
   ]
  },
  {
   "cell_type": "markdown",
   "id": "8aa89927",
   "metadata": {},
   "source": [
    "Vậy bạn có thể lựa chọn là có nên loại bỏ outlier hoặc extreme outlier hay không. Tuy nhiên do số lượng dữ liệu khá ít và về loại ta có áp dụng log-transform nên sẽ không loại bỏ."
   ]
  },
  {
   "cell_type": "markdown",
   "id": "303442ef",
   "metadata": {},
   "source": [
    "### Skewness"
   ]
  },
  {
   "cell_type": "markdown",
   "id": "aa58f90b",
   "metadata": {},
   "source": [
    "Kiểm tra độ lệch giúp chúng ta có thể biết được liệu dữ liệu của chúng ta có tuân theo phân phối chuẩn hay không. Nếu lệch thì lệch trái hay lệch phải; việc áp dụng các phương pháp có giúp giảm độ lệch hay không?....\n",
    "\n",
    "Một số cách thông dụng để làm điều này như:\n",
    "\n",
    "- Histogram\n",
    "\n",
    "- Q-Q plot\n",
    "\n",
    "- Kiểm định thống kê"
   ]
  },
  {
   "cell_type": "markdown",
   "id": "277991e5",
   "metadata": {},
   "source": [
    "Để vẽ một Histogram đơn giản, ta chỉ cần sử dụng câu lệnh"
   ]
  },
  {
   "cell_type": "code",
   "execution_count": 198,
   "id": "a49175f2",
   "metadata": {},
   "outputs": [
    {
     "data": {
      "image/png": "[encoded data removed]",
      "text/plain": [
       "<Figure size 640x480 with 1 Axes>"
      ]
     },
     "metadata": {},
     "output_type": "display_data"
    }
   ],
   "source": [
    "sns.distplot(train['SalePrice']);"
   ]
  },
  {
   "cell_type": "markdown",
   "id": "696abb66",
   "metadata": {},
   "source": [
    "Nhìn thì có vẻ nó tương đối gần với phân phối chuẩn, để biết được nó lệch như thế nào so với một \"phân phối chuẩn thật sự\" với cùng trung bình và phương sai, ta chỉ cần khai báo thêm vào `fit = norm` và thêm vào các câu lệnh \"râu ria\" như tạo tên cho biểu đồ, tạo tên cho cột y,... đều không quan trọng, có thể lược bỏ."
   ]
  },
  {
   "cell_type": "code",
   "execution_count": 199,
   "id": "c557a706",
   "metadata": {},
   "outputs": [
    {
     "data": {
      "image/png": "[encoded data removed]",
      "text/plain": [
       "<Figure size 640x480 with 1 Axes>"
      ]
     },
     "metadata": {},
     "output_type": "display_data"
    }
   ],
   "source": [
    "# Histogram\n",
    "sns.distplot(train['SalePrice'] , fit=norm);\n",
    "plt.ylabel('Frequency')\n",
    "plt.title('SalePrice distribution')\n",
    "plt.show()"
   ]
  },
  {
   "cell_type": "markdown",
   "id": "8c1b15aa",
   "metadata": {},
   "source": [
    "Vậy ta có thể dự đoán cột **SalePrice** tuân theo phân phối **Student**.\n",
    "\n",
    "> Phân phối Student là một phân phối con của phân phối chuẩn, khác biệt ở chỗ đuôi của phân phối Student cao hơn so với phân phối chuẩn, đồng nghĩa với việc có nhiều outlier ở cả 2 phía dữ liệu.\n",
    "\n",
    "Biểu đồ QQ plot sẽ giúp ta thể hiện rõ điều này. \n",
    "\n",
    "> Note: bạn không cần nhớ cú pháp, chỉ cần nhớ tên biểu đồ sau đó search gg và copy-paste. Nhớ điều chỉnh input cho phù hợp."
   ]
  },
  {
   "cell_type": "code",
   "execution_count": 200,
   "id": "28c30146",
   "metadata": {},
   "outputs": [
    {
     "data": {
      "image/png": "[encoded data removed]",
      "text/plain": [
       "<Figure size 640x480 with 1 Axes>"
      ]
     },
     "metadata": {},
     "output_type": "display_data"
    }
   ],
   "source": [
    "# QQ plot\n",
    "fig = plt.figure()\n",
    "res = stats.probplot(train['SalePrice'], plot=plt)\n",
    "plt.show()"
   ]
  },
  {
   "attachments": {
    "image.png": {
     "image/png": "[encoded data removed]"
    }
   },
   "cell_type": "markdown",
   "id": "84958291",
   "metadata": {},
   "source": [
    "Nếu dữ liệu tuân theo phân phối chuẩn, các điểm dữ liệu sẽ bám sát đường quantiles.\n",
    "\n",
    "Ví dụ như:\n",
    "\n",
    "![image.png](attachment:image.png)\n",
    "\n",
    "Vậy ta có thể thấy dữ liệu SalePrice của chúng ta càng ra xa khỏi trung bình thì càng tách xa khỏi đường Theoretical quantiles."
   ]
  },
  {
   "attachments": {
    "image.png": {
     "image/png": "[encoded data removed]"
    }
   },
   "cell_type": "markdown",
   "id": "08cbbfbd",
   "metadata": {},
   "source": [
    "Để hạn chế độ lớn của các điểm outlier, phương pháp chúng ta thường sử dụng là log-transform. Tận dụng tính chất của hàm log khi giá trị càng outlier, nó sẽ càng gần lại với nhau. Điều này giúp hạn chế lại độ lớn của chúng.\n",
    "\n",
    "![image.png](attachment:image.png)"
   ]
  },
  {
   "cell_type": "code",
   "execution_count": 201,
   "id": "7000572c",
   "metadata": {},
   "outputs": [],
   "source": [
    "# Log-transform\n",
    "train[\"SalePrice\"] = np.log(train[\"SalePrice\"])"
   ]
  },
  {
   "cell_type": "markdown",
   "id": "a54e4b6b",
   "metadata": {},
   "source": [
    "Ngoài ra nó cũng giúp giảm độ lớn của các giá trị, không cần thiết phải áp dụng các kỹ thuật scaling."
   ]
  },
  {
   "cell_type": "code",
   "execution_count": 202,
   "id": "e9acaedc",
   "metadata": {},
   "outputs": [
    {
     "data": {
      "image/png": "[encoded data removed]",
      "text/plain": [
       "<Figure size 640x480 with 1 Axes>"
      ]
     },
     "metadata": {},
     "output_type": "display_data"
    },
    {
     "data": {
      "image/png": "[encoded data removed]",
      "text/plain": [
       "<Figure size 640x480 with 1 Axes>"
      ]
     },
     "metadata": {},
     "output_type": "display_data"
    }
   ],
   "source": [
    "sns.distplot(train['SalePrice'] , fit=norm);\n",
    "plt.ylabel('Frequency')\n",
    "plt.title('SalePrice distribution')\n",
    "fig = plt.figure()\n",
    "res = stats.probplot(train['SalePrice'], plot=plt)\n",
    "plt.show()"
   ]
  },
  {
   "cell_type": "markdown",
   "id": "8846a306",
   "metadata": {},
   "source": [
    "Vậy chúng ta đã tìm hiểu sơ lược về biến mục tiêu. Phần tiếp theo chúng ta sẽ tập trung vào cải thiện các features."
   ]
  },
  {
   "cell_type": "markdown",
   "id": "0c15edd6",
   "metadata": {},
   "source": [
    "## Feature Engineering\n",
    "\n",
    "Trước khi thực hiện Feature Engineering, chúng ta nên gộp cả 2 tập train và test lại và ghi nhớ kích thước các tập để tránh việc về sau phải thực hiện lại các thao tác cho từng tập train, test. \n",
    "\n",
    "Lưu ý rằng chúng ta sẽ thêm tập test vào cuối tập train, với mục đích là pre-processing cả 2 cùng lúc, chứ không phải nhằm để train_test_split chia tập random."
   ]
  },
  {
   "cell_type": "code",
   "execution_count": 203,
   "id": "fbc058b6",
   "metadata": {
    "scrolled": true
   },
   "outputs": [
    {
     "name": "stdout",
     "output_type": "stream",
     "text": [
      "1458 1459\n"
     ]
    }
   ],
   "source": [
    "ntrain = train.shape[0]\n",
    "ntest = test.shape[0]\n",
    "print(ntrain, ntest)"
   ]
  },
  {
   "cell_type": "markdown",
   "id": "f4cf8228",
   "metadata": {},
   "source": [
    "Ta cũng sẽ lưu riêng cột SalePrice vào biến `y_train` và sẽ không đụng đến biến này cho tới khi chạy model Machine Learning."
   ]
  },
  {
   "cell_type": "code",
   "execution_count": 204,
   "id": "c72a28ca",
   "metadata": {},
   "outputs": [],
   "source": [
    "y_train = train.SalePrice.values"
   ]
  },
  {
   "cell_type": "code",
   "execution_count": 205,
   "id": "4cbb0b5a",
   "metadata": {},
   "outputs": [
    {
     "name": "stdout",
     "output_type": "stream",
     "text": [
      "all_data size is : (2917, 79)\n"
     ]
    }
   ],
   "source": [
    "# Kết hợp tập train và tập test\n",
    "all_data = pd.concat((train, test)).reset_index(drop=True)\n",
    "\n",
    "# Loại bỏ cột SalePrice khỏi các biến features\n",
    "all_data.drop(['SalePrice'], axis=1, inplace=True)\n",
    "print(\"all_data size is : {}\".format(all_data.shape))"
   ]
  },
  {
   "cell_type": "markdown",
   "id": "4454b3fa",
   "metadata": {},
   "source": [
    "Vậy ta sẽ có tổng cộng 79 features, đây là một số lượng features tương đối lớn, tuy nhiên trước khi loại bỏ, ta cần đảm bảo \"tính công bằng\" giữa các features.\n",
    "\n",
    "Tính công bằng đầu tiên có thể nghĩ đến là điền missing values, khi các features đã đầy đủ các giá trị, ta mới có đủ cơ sở so sánh để loại bỏ các cột không cần thiết."
   ]
  },
  {
   "cell_type": "markdown",
   "id": "029d3f5d",
   "metadata": {},
   "source": [
    "## Missing data"
   ]
  },
  {
   "cell_type": "markdown",
   "id": "6600c6fc",
   "metadata": {},
   "source": [
    "Câu lệnh sau đây sẽ tính tổng missing value theo từng cột:"
   ]
  },
  {
   "cell_type": "code",
   "execution_count": 206,
   "id": "52aaa89b",
   "metadata": {},
   "outputs": [
    {
     "data": {
      "text/plain": [
       "MSSubClass         0\n",
       "MSZoning           4\n",
       "LotFrontage      486\n",
       "LotArea            0\n",
       "Street             0\n",
       "                ... \n",
       "MiscVal            0\n",
       "MoSold             0\n",
       "YrSold             0\n",
       "SaleType           1\n",
       "SaleCondition      0\n",
       "Length: 79, dtype: int64"
      ]
     },
     "execution_count": 206,
     "metadata": {},
     "output_type": "execute_result"
    }
   ],
   "source": [
    "all_data.isnull().sum() "
   ]
  },
  {
   "cell_type": "markdown",
   "id": "7d4d7448",
   "metadata": {},
   "source": [
    "Để tính % missing data từng cột, ta chỉ cần chia kết quả trên cho tổng độ dài và * 100"
   ]
  },
  {
   "cell_type": "code",
   "execution_count": 207,
   "id": "cf5e4598",
   "metadata": {},
   "outputs": [],
   "source": [
    "all_data_na = (all_data.isnull().sum() / len(all_data)) * 100"
   ]
  },
  {
   "cell_type": "markdown",
   "id": "14395f3a",
   "metadata": {},
   "source": [
    "Ta chỉ cần hiển thị những cột có missing value thôi, những cột có missing value = 0 thì ta sẽ không hiển thị."
   ]
  },
  {
   "cell_type": "code",
   "execution_count": 208,
   "id": "aa5611bc",
   "metadata": {},
   "outputs": [
    {
     "data": {
      "text/plain": [
       "MSZoning         0.137127\n",
       "LotFrontage     16.660953\n",
       "Alley           93.212204\n",
       "Utilities        0.068564\n",
       "Exterior1st      0.034282\n",
       "Exterior2nd      0.034282\n",
       "MasVnrType      60.541652\n",
       "MasVnrArea       0.788481\n",
       "BsmtQual         2.776826\n",
       "BsmtCond         2.811107\n",
       "BsmtExposure     2.811107\n",
       "BsmtFinType1     2.708262\n",
       "BsmtFinSF1       0.034282\n",
       "BsmtFinType2     2.742544\n",
       "BsmtFinSF2       0.034282\n",
       "BsmtUnfSF        0.034282\n",
       "TotalBsmtSF      0.034282\n",
       "Electrical       0.034282\n",
       "BsmtFullBath     0.068564\n",
       "BsmtHalfBath     0.068564\n",
       "KitchenQual      0.034282\n",
       "Functional       0.068564\n",
       "FireplaceQu     48.680151\n",
       "GarageType       5.382242\n",
       "GarageYrBlt      5.450806\n",
       "GarageFinish     5.450806\n",
       "GarageCars       0.034282\n",
       "GarageArea       0.034282\n",
       "GarageQual       5.450806\n",
       "GarageCond       5.450806\n",
       "PoolQC          99.691464\n",
       "Fence           80.425094\n",
       "MiscFeature     96.400411\n",
       "SaleType         0.034282\n",
       "dtype: float64"
      ]
     },
     "execution_count": 208,
     "metadata": {},
     "output_type": "execute_result"
    }
   ],
   "source": [
    "all_data_na.drop(all_data_na[all_data_na == 0].index)"
   ]
  },
  {
   "cell_type": "markdown",
   "id": "2784a634",
   "metadata": {},
   "source": [
    "Ta sẽ sắp xếp lại theo thứ tự từ lớn đến bé bằng câu lệnh `.sort_values(ascending = False)`. Nếu đổi thành True thì sẽ sort từ bé đến lớn."
   ]
  },
  {
   "cell_type": "code",
   "execution_count": 209,
   "id": "c3748da2",
   "metadata": {},
   "outputs": [],
   "source": [
    "all_data_na = all_data_na.drop(all_data_na[all_data_na == 0].index).sort_values(ascending=False)"
   ]
  },
  {
   "cell_type": "code",
   "execution_count": 210,
   "id": "4bba97d5",
   "metadata": {},
   "outputs": [
    {
     "data": {
      "text/html": [
       "<div>\n",
       "<style scoped>\n",
       "    .dataframe tbody tr th:only-of-type {\n",
       "        vertical-align: middle;\n",
       "    }\n",
       "\n",
       "    .dataframe tbody tr th {\n",
       "        vertical-align: top;\n",
       "    }\n",
       "\n",
       "    .dataframe thead th {\n",
       "        text-align: right;\n",
       "    }\n",
       "</style>\n",
       "<table border=\"1\" class=\"dataframe\">\n",
       "  <thead>\n",
       "    <tr style=\"text-align: right;\">\n",
       "      <th></th>\n",
       "      <th>Missing Ratio</th>\n",
       "    </tr>\n",
       "  </thead>\n",
       "  <tbody>\n",
       "    <tr>\n",
       "      <th>PoolQC</th>\n",
       "      <td>99.691464</td>\n",
       "    </tr>\n",
       "    <tr>\n",
       "      <th>MiscFeature</th>\n",
       "      <td>96.400411</td>\n",
       "    </tr>\n",
       "    <tr>\n",
       "      <th>Alley</th>\n",
       "      <td>93.212204</td>\n",
       "    </tr>\n",
       "    <tr>\n",
       "      <th>Fence</th>\n",
       "      <td>80.425094</td>\n",
       "    </tr>\n",
       "    <tr>\n",
       "      <th>MasVnrType</th>\n",
       "      <td>60.541652</td>\n",
       "    </tr>\n",
       "    <tr>\n",
       "      <th>FireplaceQu</th>\n",
       "      <td>48.680151</td>\n",
       "    </tr>\n",
       "    <tr>\n",
       "      <th>LotFrontage</th>\n",
       "      <td>16.660953</td>\n",
       "    </tr>\n",
       "    <tr>\n",
       "      <th>GarageFinish</th>\n",
       "      <td>5.450806</td>\n",
       "    </tr>\n",
       "    <tr>\n",
       "      <th>GarageQual</th>\n",
       "      <td>5.450806</td>\n",
       "    </tr>\n",
       "    <tr>\n",
       "      <th>GarageCond</th>\n",
       "      <td>5.450806</td>\n",
       "    </tr>\n",
       "    <tr>\n",
       "      <th>GarageYrBlt</th>\n",
       "      <td>5.450806</td>\n",
       "    </tr>\n",
       "    <tr>\n",
       "      <th>GarageType</th>\n",
       "      <td>5.382242</td>\n",
       "    </tr>\n",
       "    <tr>\n",
       "      <th>BsmtExposure</th>\n",
       "      <td>2.811107</td>\n",
       "    </tr>\n",
       "    <tr>\n",
       "      <th>BsmtCond</th>\n",
       "      <td>2.811107</td>\n",
       "    </tr>\n",
       "    <tr>\n",
       "      <th>BsmtQual</th>\n",
       "      <td>2.776826</td>\n",
       "    </tr>\n",
       "    <tr>\n",
       "      <th>BsmtFinType2</th>\n",
       "      <td>2.742544</td>\n",
       "    </tr>\n",
       "    <tr>\n",
       "      <th>BsmtFinType1</th>\n",
       "      <td>2.708262</td>\n",
       "    </tr>\n",
       "    <tr>\n",
       "      <th>MasVnrArea</th>\n",
       "      <td>0.788481</td>\n",
       "    </tr>\n",
       "    <tr>\n",
       "      <th>MSZoning</th>\n",
       "      <td>0.137127</td>\n",
       "    </tr>\n",
       "    <tr>\n",
       "      <th>BsmtFullBath</th>\n",
       "      <td>0.068564</td>\n",
       "    </tr>\n",
       "    <tr>\n",
       "      <th>BsmtHalfBath</th>\n",
       "      <td>0.068564</td>\n",
       "    </tr>\n",
       "    <tr>\n",
       "      <th>Functional</th>\n",
       "      <td>0.068564</td>\n",
       "    </tr>\n",
       "    <tr>\n",
       "      <th>Utilities</th>\n",
       "      <td>0.068564</td>\n",
       "    </tr>\n",
       "    <tr>\n",
       "      <th>GarageArea</th>\n",
       "      <td>0.034282</td>\n",
       "    </tr>\n",
       "    <tr>\n",
       "      <th>GarageCars</th>\n",
       "      <td>0.034282</td>\n",
       "    </tr>\n",
       "    <tr>\n",
       "      <th>Electrical</th>\n",
       "      <td>0.034282</td>\n",
       "    </tr>\n",
       "    <tr>\n",
       "      <th>KitchenQual</th>\n",
       "      <td>0.034282</td>\n",
       "    </tr>\n",
       "    <tr>\n",
       "      <th>TotalBsmtSF</th>\n",
       "      <td>0.034282</td>\n",
       "    </tr>\n",
       "    <tr>\n",
       "      <th>BsmtUnfSF</th>\n",
       "      <td>0.034282</td>\n",
       "    </tr>\n",
       "    <tr>\n",
       "      <th>BsmtFinSF2</th>\n",
       "      <td>0.034282</td>\n",
       "    </tr>\n",
       "    <tr>\n",
       "      <th>BsmtFinSF1</th>\n",
       "      <td>0.034282</td>\n",
       "    </tr>\n",
       "    <tr>\n",
       "      <th>Exterior2nd</th>\n",
       "      <td>0.034282</td>\n",
       "    </tr>\n",
       "    <tr>\n",
       "      <th>Exterior1st</th>\n",
       "      <td>0.034282</td>\n",
       "    </tr>\n",
       "    <tr>\n",
       "      <th>SaleType</th>\n",
       "      <td>0.034282</td>\n",
       "    </tr>\n",
       "  </tbody>\n",
       "</table>\n",
       "</div>"
      ],
      "text/plain": [
       "              Missing Ratio\n",
       "PoolQC            99.691464\n",
       "MiscFeature       96.400411\n",
       "Alley             93.212204\n",
       "Fence             80.425094\n",
       "MasVnrType        60.541652\n",
       "FireplaceQu       48.680151\n",
       "LotFrontage       16.660953\n",
       "GarageFinish       5.450806\n",
       "GarageQual         5.450806\n",
       "GarageCond         5.450806\n",
       "GarageYrBlt        5.450806\n",
       "GarageType         5.382242\n",
       "BsmtExposure       2.811107\n",
       "BsmtCond           2.811107\n",
       "BsmtQual           2.776826\n",
       "BsmtFinType2       2.742544\n",
       "BsmtFinType1       2.708262\n",
       "MasVnrArea         0.788481\n",
       "MSZoning           0.137127\n",
       "BsmtFullBath       0.068564\n",
       "BsmtHalfBath       0.068564\n",
       "Functional         0.068564\n",
       "Utilities          0.068564\n",
       "GarageArea         0.034282\n",
       "GarageCars         0.034282\n",
       "Electrical         0.034282\n",
       "KitchenQual        0.034282\n",
       "TotalBsmtSF        0.034282\n",
       "BsmtUnfSF          0.034282\n",
       "BsmtFinSF2         0.034282\n",
       "BsmtFinSF1         0.034282\n",
       "Exterior2nd        0.034282\n",
       "Exterior1st        0.034282\n",
       "SaleType           0.034282"
      ]
     },
     "execution_count": 210,
     "metadata": {},
     "output_type": "execute_result"
    }
   ],
   "source": [
    "# Đổi tên cột thành Missing Ratio và in ra kết quả\n",
    "missing_data = pd.DataFrame({'Missing Ratio' :all_data_na})\n",
    "missing_data"
   ]
  },
  {
   "cell_type": "markdown",
   "id": "61287190",
   "metadata": {},
   "source": [
    "Ngoài ra cách thông dụng để thể hiện missing value bằng biểu đồ là sử dụng barplot. Không cần nhớ câu lệnh, chỉ cần biết search gg và thay đổi input"
   ]
  },
  {
   "cell_type": "code",
   "execution_count": 211,
   "id": "ff23dbe4",
   "metadata": {},
   "outputs": [
    {
     "data": {
      "text/plain": [
       "Text(0.5, 1.0, 'Percent missing data by feature')"
      ]
     },
     "execution_count": 211,
     "metadata": {},
     "output_type": "execute_result"
    },
    {
     "data": {
      "image/png": "[encoded data removed]",
      "text/plain": [
       "<Figure size 1500x1200 with 1 Axes>"
      ]
     },
     "metadata": {},
     "output_type": "display_data"
    }
   ],
   "source": [
    "f, ax = plt.subplots(figsize=(15, 12))\n",
    "plt.xticks(rotation='vertical')\n",
    "sns.barplot(x=all_data_na.index, y=all_data_na)\n",
    "plt.xlabel('Features', fontsize=15)\n",
    "plt.ylabel('Percent of missing values', fontsize=15)\n",
    "plt.title('Percent missing data by feature', fontsize=15)"
   ]
  },
  {
   "cell_type": "code",
   "execution_count": 212,
   "id": "ae7b3d6d",
   "metadata": {},
   "outputs": [
    {
     "data": {
      "text/plain": [
       "34"
      ]
     },
     "execution_count": 212,
     "metadata": {},
     "output_type": "execute_result"
    }
   ],
   "source": [
    "len(missing_data)"
   ]
  },
  {
   "cell_type": "markdown",
   "id": "0f7d9451",
   "metadata": {},
   "source": [
    "Vậy có tất cả 35 giá trị cần được xem xét điền missing values."
   ]
  },
  {
   "cell_type": "markdown",
   "id": "bf7fe5be",
   "metadata": {},
   "source": [
    "## Fill missing values"
   ]
  },
  {
   "cell_type": "markdown",
   "id": "35f1a664",
   "metadata": {},
   "source": [
    "Trước đó ta cần dùng lệnh `value_counts()` để xem có cột nào bất thường hay không"
   ]
  },
  {
   "cell_type": "code",
   "execution_count": 213,
   "id": "f26cb920",
   "metadata": {},
   "outputs": [
    {
     "name": "stdout",
     "output_type": "stream",
     "text": [
      "MSSubClass\n",
      "20     1079\n",
      "60      573\n",
      "50      287\n",
      "120     182\n",
      "30      139\n",
      "70      128\n",
      "160     128\n",
      "80      118\n",
      "90      109\n",
      "190      61\n",
      "85       48\n",
      "75       23\n",
      "45       18\n",
      "180      17\n",
      "40        6\n",
      "150       1\n",
      "Name: count, dtype: int64\n",
      "MSZoning\n",
      "RL         2263\n",
      "RM          460\n",
      "FV          139\n",
      "RH           26\n",
      "C (all)      25\n",
      "Name: count, dtype: int64\n",
      "LotFrontage\n",
      "60.0     276\n",
      "80.0     137\n",
      "70.0     133\n",
      "50.0     117\n",
      "75.0     105\n",
      "        ... \n",
      "138.0      1\n",
      "182.0      1\n",
      "168.0      1\n",
      "313.0      1\n",
      "133.0      1\n",
      "Name: count, Length: 128, dtype: int64\n",
      "LotArea\n",
      "9600     44\n",
      "7200     43\n",
      "6000     34\n",
      "9000     29\n",
      "10800    25\n",
      "         ..\n",
      "15498     1\n",
      "9439      1\n",
      "7406      1\n",
      "3013      1\n",
      "10441     1\n",
      "Name: count, Length: 1949, dtype: int64\n",
      "Street\n",
      "Pave    2905\n",
      "Grvl      12\n",
      "Name: count, dtype: int64\n",
      "Alley\n",
      "Grvl    120\n",
      "Pave     78\n",
      "Name: count, dtype: int64\n",
      "LotShape\n",
      "Reg    1859\n",
      "IR1     967\n",
      "IR2      76\n",
      "IR3      15\n",
      "Name: count, dtype: int64\n",
      "LandContour\n",
      "Lvl    2622\n",
      "HLS     120\n",
      "Bnk     115\n",
      "Low      60\n",
      "Name: count, dtype: int64\n",
      "Utilities\n",
      "AllPub    2914\n",
      "NoSeWa       1\n",
      "Name: count, dtype: int64\n",
      "LotConfig\n",
      "Inside     2132\n",
      "Corner      510\n",
      "CulDSac     176\n",
      "FR2          85\n",
      "FR3          14\n",
      "Name: count, dtype: int64\n",
      "LandSlope\n",
      "Gtl    2776\n",
      "Mod     125\n",
      "Sev      16\n",
      "Name: count, dtype: int64\n",
      "Neighborhood\n",
      "NAmes      443\n",
      "CollgCr    267\n",
      "OldTown    239\n",
      "Edwards    192\n",
      "Somerst    182\n",
      "NridgHt    166\n",
      "Gilbert    165\n",
      "Sawyer     151\n",
      "NWAmes     131\n",
      "SawyerW    125\n",
      "Mitchel    114\n",
      "BrkSide    108\n",
      "Crawfor    103\n",
      "IDOTRR      93\n",
      "Timber      72\n",
      "NoRidge     71\n",
      "StoneBr     51\n",
      "SWISU       48\n",
      "ClearCr     44\n",
      "MeadowV     37\n",
      "BrDale      30\n",
      "Blmngtn     28\n",
      "Veenker     24\n",
      "NPkVill     23\n",
      "Blueste     10\n",
      "Name: count, dtype: int64\n",
      "Condition1\n",
      "Norm      2511\n",
      "Feedr      163\n",
      "Artery      92\n",
      "RRAn        50\n",
      "PosN        38\n",
      "RRAe        28\n",
      "PosA        20\n",
      "RRNn         9\n",
      "RRNe         6\n",
      "Name: count, dtype: int64\n",
      "Condition2\n",
      "Norm      2888\n",
      "Feedr       13\n",
      "Artery       5\n",
      "PosA         4\n",
      "PosN         3\n",
      "RRNn         2\n",
      "RRAn         1\n",
      "RRAe         1\n",
      "Name: count, dtype: int64\n",
      "BldgType\n",
      "1Fam      2423\n",
      "TwnhsE     227\n",
      "Duplex     109\n",
      "Twnhs       96\n",
      "2fmCon      62\n",
      "Name: count, dtype: int64\n",
      "HouseStyle\n",
      "1Story    1471\n",
      "2Story     870\n",
      "1.5Fin     314\n",
      "SLvl       128\n",
      "SFoyer      83\n",
      "2.5Unf      24\n",
      "1.5Unf      19\n",
      "2.5Fin       8\n",
      "Name: count, dtype: int64\n",
      "OverallQual\n",
      "5     825\n",
      "6     731\n",
      "7     600\n",
      "8     342\n",
      "4     226\n",
      "9     107\n",
      "3      40\n",
      "10     29\n",
      "2      13\n",
      "1       4\n",
      "Name: count, dtype: int64\n",
      "OverallCond\n",
      "5    1643\n",
      "6     531\n",
      "7     390\n",
      "8     144\n",
      "4     101\n",
      "3      50\n",
      "9      41\n",
      "2      10\n",
      "1       7\n",
      "Name: count, dtype: int64\n",
      "YearBuilt\n",
      "2005    142\n",
      "2006    138\n",
      "2007    108\n",
      "2004     99\n",
      "2003     88\n",
      "       ... \n",
      "1896      1\n",
      "1902      1\n",
      "1913      1\n",
      "1879      1\n",
      "1904      1\n",
      "Name: count, Length: 118, dtype: int64\n",
      "YearRemodAdd\n",
      "1950    361\n",
      "2006    202\n",
      "2007    164\n",
      "2005    141\n",
      "2004    111\n",
      "       ... \n",
      "2010     13\n",
      "1986     12\n",
      "1981     12\n",
      "1983     11\n",
      "1982      9\n",
      "Name: count, Length: 61, dtype: int64\n",
      "RoofStyle\n",
      "Gable      2310\n",
      "Hip         549\n",
      "Gambrel      22\n",
      "Flat         20\n",
      "Mansard      11\n",
      "Shed          5\n",
      "Name: count, dtype: int64\n",
      "RoofMatl\n",
      "CompShg    2875\n",
      "Tar&Grv      23\n",
      "WdShake       9\n",
      "WdShngl       7\n",
      "Metal         1\n",
      "Membran       1\n",
      "Roll          1\n",
      "Name: count, dtype: int64\n",
      "Exterior1st\n",
      "VinylSd    1025\n",
      "MetalSd     450\n",
      "HdBoard     442\n",
      "Wd Sdng     411\n",
      "Plywood     221\n",
      "CemntBd     125\n",
      "BrkFace      87\n",
      "WdShing      56\n",
      "AsbShng      44\n",
      "Stucco       42\n",
      "BrkComm       6\n",
      "AsphShn       2\n",
      "Stone         2\n",
      "CBlock        2\n",
      "ImStucc       1\n",
      "Name: count, dtype: int64\n",
      "Exterior2nd\n",
      "VinylSd    1014\n",
      "MetalSd     447\n",
      "HdBoard     406\n",
      "Wd Sdng     391\n",
      "Plywood     270\n",
      "CmentBd     125\n",
      "Wd Shng      81\n",
      "BrkFace      47\n",
      "Stucco       46\n",
      "AsbShng      38\n",
      "Brk Cmn      22\n",
      "ImStucc      15\n",
      "Stone         6\n",
      "AsphShn       4\n",
      "CBlock        3\n",
      "Other         1\n",
      "Name: count, dtype: int64\n",
      "MasVnrType\n",
      "BrkFace    879\n",
      "Stone      247\n",
      "BrkCmn      25\n",
      "Name: count, dtype: int64\n",
      "MasVnrArea\n",
      "0.0      1738\n",
      "120.0      15\n",
      "176.0      13\n",
      "200.0      13\n",
      "216.0      12\n",
      "         ... \n",
      "137.0       1\n",
      "274.0       1\n",
      "415.0       1\n",
      "760.0       1\n",
      "382.0       1\n",
      "Name: count, Length: 442, dtype: int64\n",
      "ExterQual\n",
      "TA    1798\n",
      "Gd     979\n",
      "Ex     105\n",
      "Fa      35\n",
      "Name: count, dtype: int64\n",
      "ExterCond\n",
      "TA    2536\n",
      "Gd     299\n",
      "Fa      67\n",
      "Ex      12\n",
      "Po       3\n",
      "Name: count, dtype: int64\n",
      "Foundation\n",
      "PConc     1306\n",
      "CBlock    1235\n",
      "BrkTil     311\n",
      "Slab        49\n",
      "Stone       11\n",
      "Wood         5\n",
      "Name: count, dtype: int64\n",
      "BsmtQual\n",
      "TA    1283\n",
      "Gd    1209\n",
      "Ex     256\n",
      "Fa      88\n",
      "Name: count, dtype: int64\n",
      "BsmtCond\n",
      "TA    2604\n",
      "Gd     122\n",
      "Fa     104\n",
      "Po       5\n",
      "Name: count, dtype: int64\n",
      "BsmtExposure\n",
      "No    1904\n",
      "Av     418\n",
      "Gd     274\n",
      "Mn     239\n",
      "Name: count, dtype: int64\n",
      "BsmtFinType1\n",
      "Unf    851\n",
      "GLQ    847\n",
      "ALQ    429\n",
      "Rec    288\n",
      "BLQ    269\n",
      "LwQ    154\n",
      "Name: count, dtype: int64\n",
      "BsmtFinSF1\n",
      "0.0       929\n",
      "24.0       27\n",
      "16.0       14\n",
      "300.0       9\n",
      "20.0        8\n",
      "         ... \n",
      "837.0       1\n",
      "383.0       1\n",
      "1085.0      1\n",
      "900.0       1\n",
      "337.0       1\n",
      "Name: count, Length: 989, dtype: int64\n",
      "BsmtFinType2\n",
      "Unf    2491\n",
      "Rec     105\n",
      "LwQ      87\n",
      "BLQ      68\n",
      "ALQ      52\n",
      "GLQ      34\n",
      "Name: count, dtype: int64\n",
      "BsmtFinSF2\n",
      "0.0       2569\n",
      "180.0        5\n",
      "294.0        5\n",
      "435.0        3\n",
      "483.0        3\n",
      "          ... \n",
      "600.0        1\n",
      "211.0        1\n",
      "1031.0       1\n",
      "438.0        1\n",
      "297.0        1\n",
      "Name: count, Length: 272, dtype: int64\n",
      "BsmtUnfSF\n",
      "0.0       241\n",
      "384.0      19\n",
      "728.0      14\n",
      "672.0      13\n",
      "600.0      12\n",
      "         ... \n",
      "257.0       1\n",
      "1217.0      1\n",
      "539.0       1\n",
      "39.0        1\n",
      "1503.0      1\n",
      "Name: count, Length: 1135, dtype: int64\n",
      "TotalBsmtSF\n",
      "0.0       78\n",
      "864.0     74\n",
      "672.0     29\n",
      "912.0     26\n",
      "1040.0    25\n",
      "          ..\n",
      "1205.0     1\n",
      "1571.0     1\n",
      "2633.0     1\n",
      "757.0      1\n",
      "1381.0     1\n",
      "Name: count, Length: 1056, dtype: int64\n",
      "Heating\n",
      "GasA     2872\n",
      "GasW       27\n",
      "Grav        9\n",
      "Wall        6\n",
      "OthW        2\n",
      "Floor       1\n",
      "Name: count, dtype: int64\n",
      "HeatingQC\n",
      "Ex    1491\n",
      "TA     857\n",
      "Gd     474\n",
      "Fa      92\n",
      "Po       3\n",
      "Name: count, dtype: int64\n",
      "CentralAir\n",
      "Y    2721\n",
      "N     196\n",
      "Name: count, dtype: int64\n",
      "Electrical\n",
      "SBrkr    2669\n",
      "FuseA     188\n",
      "FuseF      50\n",
      "FuseP       8\n",
      "Mix         1\n",
      "Name: count, dtype: int64\n",
      "1stFlrSF\n",
      "864     46\n",
      "1040    28\n",
      "912     19\n",
      "960     18\n",
      "816     18\n",
      "        ..\n",
      "2633     1\n",
      "814      1\n",
      "1281     1\n",
      "1980     1\n",
      "1960     1\n",
      "Name: count, Length: 1081, dtype: int64\n",
      "2ndFlrSF\n",
      "0       1668\n",
      "546       23\n",
      "728       18\n",
      "504       17\n",
      "672       13\n",
      "        ... \n",
      "980        1\n",
      "456        1\n",
      "831        1\n",
      "826        1\n",
      "1004       1\n",
      "Name: count, Length: 633, dtype: int64\n",
      "LowQualFinSF\n",
      "0       2877\n",
      "80         4\n",
      "205        2\n",
      "360        2\n",
      "512        1\n",
      "697        1\n",
      "108        1\n",
      "312        1\n",
      "259        1\n",
      "514        1\n",
      "431        1\n",
      "1064       1\n",
      "362        1\n",
      "384        1\n",
      "114        1\n",
      "140        1\n",
      "479        1\n",
      "397        1\n",
      "436        1\n",
      "120        1\n",
      "481        1\n",
      "232        1\n",
      "53         1\n",
      "515        1\n",
      "156        1\n",
      "473        1\n",
      "420        1\n",
      "390        1\n",
      "371        1\n",
      "392        1\n",
      "144        1\n",
      "572        1\n",
      "528        1\n",
      "234        1\n",
      "513        1\n",
      "450        1\n",
      "Name: count, dtype: int64\n",
      "GrLivArea\n",
      "864     41\n",
      "1092    26\n",
      "1040    25\n",
      "1456    20\n",
      "1200    18\n",
      "        ..\n",
      "1247     1\n",
      "438      1\n",
      "2622     1\n",
      "2021     1\n",
      "1778     1\n",
      "Name: count, Length: 1290, dtype: int64\n",
      "BsmtFullBath\n",
      "0.0    1705\n",
      "1.0    1171\n",
      "2.0      37\n",
      "3.0       2\n",
      "Name: count, dtype: int64\n",
      "BsmtHalfBath\n",
      "0.0    2740\n",
      "1.0     171\n",
      "2.0       4\n",
      "Name: count, dtype: int64\n",
      "FullBath\n",
      "2    1529\n",
      "1    1309\n",
      "3      63\n",
      "0      12\n",
      "4       4\n",
      "Name: count, dtype: int64\n",
      "HalfBath\n",
      "0    1834\n",
      "1    1058\n",
      "2      25\n",
      "Name: count, dtype: int64\n",
      "BedroomAbvGr\n",
      "3    1594\n",
      "2     742\n",
      "4     400\n",
      "1     103\n",
      "5      48\n",
      "6      21\n",
      "0       8\n",
      "8       1\n",
      "Name: count, dtype: int64\n",
      "KitchenAbvGr\n",
      "1    2783\n",
      "2     129\n",
      "0       3\n",
      "3       2\n",
      "Name: count, dtype: int64\n",
      "KitchenQual\n",
      "TA    1492\n",
      "Gd    1151\n",
      "Ex     203\n",
      "Fa      70\n",
      "Name: count, dtype: int64\n",
      "TotRmsAbvGrd\n",
      "6     844\n",
      "7     649\n",
      "5     583\n",
      "8     347\n",
      "4     196\n",
      "9     143\n",
      "10     80\n",
      "11     31\n",
      "3      25\n",
      "12     15\n",
      "2       1\n",
      "14      1\n",
      "13      1\n",
      "15      1\n",
      "Name: count, dtype: int64\n",
      "Functional\n",
      "Typ     2715\n",
      "Min2      70\n",
      "Min1      65\n",
      "Mod       35\n",
      "Maj1      19\n",
      "Maj2       9\n",
      "Sev        2\n",
      "Name: count, dtype: int64\n",
      "Fireplaces\n",
      "0    1420\n",
      "1    1267\n",
      "2     219\n",
      "3      10\n",
      "4       1\n",
      "Name: count, dtype: int64\n",
      "FireplaceQu\n",
      "Gd    742\n",
      "TA    592\n",
      "Fa     74\n",
      "Po     46\n",
      "Ex     43\n",
      "Name: count, dtype: int64\n",
      "GarageType\n",
      "Attchd     1722\n",
      "Detchd      779\n",
      "BuiltIn     185\n",
      "Basment      36\n",
      "2Types       23\n",
      "CarPort      15\n",
      "Name: count, dtype: int64\n",
      "GarageYrBlt\n",
      "2005.0    142\n",
      "2006.0    115\n",
      "2007.0    114\n",
      "2004.0     99\n",
      "2003.0     92\n",
      "         ... \n",
      "1908.0      1\n",
      "1896.0      1\n",
      "1933.0      1\n",
      "1906.0      1\n",
      "1919.0      1\n",
      "Name: count, Length: 103, dtype: int64\n",
      "GarageFinish\n",
      "Unf    1230\n",
      "RFn     811\n",
      "Fin     717\n",
      "Name: count, dtype: int64\n",
      "GarageCars\n",
      "2.0    1593\n",
      "1.0     776\n",
      "3.0     373\n",
      "0.0     157\n",
      "4.0      16\n",
      "5.0       1\n",
      "Name: count, dtype: int64\n",
      "GarageArea\n",
      "0.0       157\n",
      "576.0      97\n",
      "440.0      96\n",
      "240.0      69\n",
      "484.0      68\n",
      "         ... \n",
      "1025.0      1\n",
      "923.0       1\n",
      "192.0       1\n",
      "708.0       1\n",
      "272.0       1\n",
      "Name: count, Length: 602, dtype: int64\n",
      "GarageQual\n",
      "TA    2602\n",
      "Fa     124\n",
      "Gd      24\n",
      "Po       5\n",
      "Ex       3\n",
      "Name: count, dtype: int64\n",
      "GarageCond\n",
      "TA    2652\n",
      "Fa      74\n",
      "Gd      15\n",
      "Po      14\n",
      "Ex       3\n",
      "Name: count, dtype: int64\n",
      "PavedDrive\n",
      "Y    2639\n",
      "N     216\n",
      "P      62\n",
      "Name: count, dtype: int64\n",
      "WoodDeckSF\n",
      "0      1523\n",
      "100      74\n",
      "192      70\n",
      "144      61\n",
      "168      56\n",
      "       ... \n",
      "436       1\n",
      "448       1\n",
      "361       1\n",
      "362       1\n",
      "530       1\n",
      "Name: count, Length: 379, dtype: int64\n",
      "OpenPorchSF\n",
      "0      1298\n",
      "36       52\n",
      "48       51\n",
      "40       44\n",
      "32       38\n",
      "       ... \n",
      "364       1\n",
      "418       1\n",
      "129       1\n",
      "291       1\n",
      "225       1\n",
      "Name: count, Length: 250, dtype: int64\n",
      "EnclosedPorch\n",
      "0      2458\n",
      "112      22\n",
      "96       13\n",
      "144      11\n",
      "192      10\n",
      "       ... \n",
      "214       1\n",
      "220       1\n",
      "19        1\n",
      "174       1\n",
      "23        1\n",
      "Name: count, Length: 183, dtype: int64\n",
      "3SsnPorch\n",
      "0      2880\n",
      "168       3\n",
      "153       3\n",
      "144       2\n",
      "216       2\n",
      "180       2\n",
      "140       1\n",
      "86        1\n",
      "176       1\n",
      "219       1\n",
      "120       1\n",
      "174       1\n",
      "150       1\n",
      "360       1\n",
      "225       1\n",
      "255       1\n",
      "224       1\n",
      "304       1\n",
      "290       1\n",
      "407       1\n",
      "96        1\n",
      "320       1\n",
      "23        1\n",
      "162       1\n",
      "182       1\n",
      "130       1\n",
      "196       1\n",
      "245       1\n",
      "238       1\n",
      "508       1\n",
      "323       1\n",
      "Name: count, dtype: int64\n",
      "ScreenPorch\n",
      "0      2661\n",
      "144      13\n",
      "192      11\n",
      "168      10\n",
      "120       9\n",
      "       ... \n",
      "233       1\n",
      "190       1\n",
      "265       1\n",
      "222       1\n",
      "104       1\n",
      "Name: count, Length: 121, dtype: int64\n",
      "PoolArea\n",
      "0      2905\n",
      "512       1\n",
      "648       1\n",
      "576       1\n",
      "555       1\n",
      "519       1\n",
      "738       1\n",
      "144       1\n",
      "368       1\n",
      "444       1\n",
      "228       1\n",
      "561       1\n",
      "800       1\n",
      "Name: count, dtype: int64\n",
      "PoolQC\n",
      "Ex    4\n",
      "Gd    3\n",
      "Fa    2\n",
      "Name: count, dtype: int64\n",
      "Fence\n",
      "MnPrv    329\n",
      "GdPrv    118\n",
      "GdWo     112\n",
      "MnWw      12\n",
      "Name: count, dtype: int64\n",
      "MiscFeature\n",
      "Shed    95\n",
      "Gar2     5\n",
      "Othr     4\n",
      "TenC     1\n",
      "Name: count, dtype: int64\n",
      "MiscVal\n",
      "0        2814\n",
      "400        18\n",
      "500        13\n",
      "450         9\n",
      "600         8\n",
      "2000        7\n",
      "700         7\n",
      "1500        3\n",
      "650         3\n",
      "1200        3\n",
      "480         2\n",
      "2500        2\n",
      "3000        2\n",
      "4500        2\n",
      "750         1\n",
      "900         1\n",
      "17000       1\n",
      "6500        1\n",
      "1000        1\n",
      "80          1\n",
      "1512        1\n",
      "455         1\n",
      "460         1\n",
      "490         1\n",
      "1150        1\n",
      "300         1\n",
      "12500       1\n",
      "8300        1\n",
      "1400        1\n",
      "560         1\n",
      "620         1\n",
      "54          1\n",
      "1300        1\n",
      "3500        1\n",
      "800         1\n",
      "15500       1\n",
      "350         1\n",
      "420         1\n",
      "Name: count, dtype: int64\n",
      "MoSold\n",
      "6     503\n",
      "7     446\n",
      "5     394\n",
      "4     279\n",
      "8     233\n",
      "3     232\n",
      "10    172\n",
      "9     158\n",
      "11    142\n",
      "2     133\n",
      "1     121\n",
      "12    104\n",
      "Name: count, dtype: int64\n",
      "YrSold\n",
      "2007    691\n",
      "2009    647\n",
      "2008    621\n",
      "2006    619\n",
      "2010    339\n",
      "Name: count, dtype: int64\n",
      "SaleType\n",
      "WD       2525\n",
      "New       237\n",
      "COD        87\n",
      "ConLD      26\n",
      "CWD        12\n",
      "ConLI       9\n",
      "ConLw       8\n",
      "Oth         7\n",
      "Con         5\n",
      "Name: count, dtype: int64\n",
      "SaleCondition\n",
      "Normal     2402\n",
      "Partial     243\n",
      "Abnorml     190\n",
      "Family       46\n",
      "Alloca       24\n",
      "AdjLand      12\n",
      "Name: count, dtype: int64\n"
     ]
    }
   ],
   "source": [
    "for i in all_data.columns:\n",
    "    print(all_data[i].value_counts())"
   ]
  },
  {
   "cell_type": "markdown",
   "id": "075904a3",
   "metadata": {},
   "source": [
    "**Utilities** trong file Description có rất nhiều giá trị, tuy nhiên khi kiểm tra số giá trị unique của nó thì chỉ có 2 giá trị và chỉ có duy nhất 1 giá trị `NoSeWa`, điều này không đem lại bất kì thông tin nào về tính tổng quát mà sẽ gây nhiễu cho mô hình."
   ]
  },
  {
   "cell_type": "code",
   "execution_count": 214,
   "id": "1f3f9508",
   "metadata": {},
   "outputs": [
    {
     "data": {
      "text/plain": [
       "Utilities\n",
       "AllPub    2914\n",
       "NoSeWa       1\n",
       "Name: count, dtype: int64"
      ]
     },
     "execution_count": 214,
     "metadata": {},
     "output_type": "execute_result"
    }
   ],
   "source": [
    "all_data.Utilities.value_counts()"
   ]
  },
  {
   "cell_type": "markdown",
   "id": "2635a77e",
   "metadata": {},
   "source": [
    "Nên ta sẽ loại bỏ ngay cột này."
   ]
  },
  {
   "cell_type": "code",
   "execution_count": 215,
   "id": "7dc14699",
   "metadata": {},
   "outputs": [],
   "source": [
    "all_data = all_data.drop(['Utilities'], axis=1)"
   ]
  },
  {
   "cell_type": "markdown",
   "id": "a77f1521",
   "metadata": {},
   "source": [
    "**PoolQC** : Chất lượng hồ bơi. Missing value nghĩa là không có hồ bơi"
   ]
  },
  {
   "cell_type": "code",
   "execution_count": 216,
   "id": "55aff09d",
   "metadata": {},
   "outputs": [],
   "source": [
    "all_data[\"PoolQC\"] = all_data[\"PoolQC\"].fillna(\"None\")"
   ]
  },
  {
   "cell_type": "markdown",
   "id": "b25c4b4a",
   "metadata": {},
   "source": [
    "**MiscFeature** : Đặc điểm khác không được đề cập trong các danh mục khác. Missing value nghĩa là không có hồ bơi"
   ]
  },
  {
   "cell_type": "code",
   "execution_count": 217,
   "id": "10b52c10",
   "metadata": {},
   "outputs": [],
   "source": [
    "all_data[\"MiscFeature\"] = all_data[\"MiscFeature\"].fillna(\"None\")"
   ]
  },
  {
   "cell_type": "markdown",
   "id": "928101c6",
   "metadata": {},
   "source": [
    "**Alley** : Loại hẻm tiếp cận đến lô đất. Missing value nghĩa là không có hẻm tiếp cận."
   ]
  },
  {
   "cell_type": "code",
   "execution_count": 218,
   "id": "a2654467",
   "metadata": {},
   "outputs": [],
   "source": [
    "all_data[\"Alley\"] = all_data[\"Alley\"].fillna(\"None\")"
   ]
  },
  {
   "cell_type": "markdown",
   "id": "0f0415c2",
   "metadata": {},
   "source": [
    "**Fence** : Chất lượng hàng rào. Missing value nghĩa là không có hàng rào"
   ]
  },
  {
   "cell_type": "code",
   "execution_count": 219,
   "id": "5f0bcc65",
   "metadata": {},
   "outputs": [],
   "source": [
    "all_data[\"Fence\"] = all_data[\"Fence\"].fillna(\"None\")"
   ]
  },
  {
   "cell_type": "markdown",
   "id": "607c806b",
   "metadata": {},
   "source": [
    "**FireplaceQu** : Chất lượng lò sưởi. Missing value nghĩa là không có lò sưởi"
   ]
  },
  {
   "cell_type": "code",
   "execution_count": 220,
   "id": "4954e851",
   "metadata": {},
   "outputs": [],
   "source": [
    "all_data[\"FireplaceQu\"] = all_data[\"FireplaceQu\"].fillna(\"None\")"
   ]
  },
  {
   "cell_type": "markdown",
   "id": "1f721209",
   "metadata": {},
   "source": [
    "**LotFrontage** : Chiều dài tuyến đường (theo đơn vị feet) kết nối với lô đất. Nhiều căn nhà sẽ kết nối với cùng một tuyến đường, nên các căn nhà cùng Neighborhood có thể có cùng LotFrontage. Nên ta có thể groupby theo Neighborhood trước, sau đó điền missing value là median của nhóm đó.\n",
    "\n",
    "Tuy nhiên điều này sẽ làm lộ thông tin của tập test. Do đó ta chỉ nên fill bằng median của LotFrontage."
   ]
  },
  {
   "cell_type": "code",
   "execution_count": 221,
   "id": "94ff27b9",
   "metadata": {},
   "outputs": [],
   "source": [
    "# all_data[\"LotFrontage\"] = all_data.groupby(\"Neighborhood\")[\"LotFrontage\"].transform(lambda x: x.fillna(x.median()))\n",
    "all_data[\"LotFrontage\"] = all_data['LotFrontage'].fillna(train['LotFrontage'].mode()[0])"
   ]
  },
  {
   "cell_type": "markdown",
   "id": "39ac1cb7",
   "metadata": {},
   "source": [
    "**GarageType, GarageFinish, GarageQual, GarageCond, BsmtQual, BsmtCond, BsmtExposure, BsmtFinType1, BsmtFinType2** : giống với các biến category trước đó, ta điền missing value là None"
   ]
  },
  {
   "cell_type": "code",
   "execution_count": 222,
   "id": "b857d559",
   "metadata": {},
   "outputs": [],
   "source": [
    "for col in ('GarageType', 'GarageFinish', 'GarageQual', 'GarageCond', \n",
    "            'BsmtQual', 'BsmtCond', 'BsmtExposure', 'BsmtFinType1', 'BsmtFinType2', 'MasVnrType'):\n",
    "    all_data[col] = all_data[col].fillna('None')"
   ]
  },
  {
   "cell_type": "markdown",
   "id": "5d9d5572",
   "metadata": {},
   "source": [
    "**GarageYrBlt, GarageArea, GarageCars, MasVnrArea** : các biến numeric nếu không có giá trị thì ta có thể điền giá trị 0."
   ]
  },
  {
   "cell_type": "code",
   "execution_count": 223,
   "id": "365400ca",
   "metadata": {},
   "outputs": [],
   "source": [
    "for col in ('GarageYrBlt', 'GarageArea', 'GarageCars', 'MasVnrArea'):\n",
    "    all_data[col] = all_data[col].fillna(0)"
   ]
  },
  {
   "cell_type": "markdown",
   "id": "c7b3d09a",
   "metadata": {},
   "source": [
    "**BsmtFinSF1, BsmtFinSF2, BsmtUnfSF, TotalBsmtSF, BsmtFullBath, BsmtHalfBath** : là những biến numeric nên ta sẽ fill missing value là 0"
   ]
  },
  {
   "cell_type": "code",
   "execution_count": 224,
   "id": "3236f439",
   "metadata": {},
   "outputs": [],
   "source": [
    "for col in ('BsmtFinSF1', 'BsmtFinSF2', 'BsmtUnfSF','TotalBsmtSF', 'BsmtFullBath', 'BsmtHalfBath'):\n",
    "    all_data[col] = all_data[col].fillna(0)"
   ]
  },
  {
   "cell_type": "markdown",
   "id": "89c7b6ac",
   "metadata": {},
   "source": [
    "**MSZoning** không đề cập đến Nan value là gì nên ta có thể thay thế missing value bằng mode."
   ]
  },
  {
   "cell_type": "code",
   "execution_count": 225,
   "id": "8a30d8ae",
   "metadata": {},
   "outputs": [],
   "source": [
    "all_data['MSZoning'] = all_data['MSZoning'].fillna(train['MSZoning'].mode()[0])"
   ]
  },
  {
   "cell_type": "markdown",
   "id": "44ec08d6",
   "metadata": {},
   "source": [
    "**Functional** có giá trị `Typ`, nghĩa là bình thường, điển hình. Do đó thay vì lựa chọn mode, ta sẽ lựa chọn thẳng biến này để fill missing values."
   ]
  },
  {
   "cell_type": "code",
   "execution_count": 226,
   "id": "f2b3ab1c",
   "metadata": {},
   "outputs": [],
   "source": [
    "all_data[\"Functional\"] = all_data[\"Functional\"].fillna(\"Typ\")"
   ]
  },
  {
   "cell_type": "markdown",
   "id": "e5aece98",
   "metadata": {},
   "source": [
    "Các biến còn lại đều dùng mode."
   ]
  },
  {
   "cell_type": "code",
   "execution_count": 227,
   "id": "beeaae4a",
   "metadata": {},
   "outputs": [],
   "source": [
    "all_data['Electrical'] = all_data['Electrical'].fillna(train['Electrical'].mode()[0])"
   ]
  },
  {
   "cell_type": "code",
   "execution_count": 228,
   "id": "c49c2f6d",
   "metadata": {},
   "outputs": [],
   "source": [
    "all_data['KitchenQual'] = all_data['KitchenQual'].fillna(train['KitchenQual'].mode()[0])"
   ]
  },
  {
   "cell_type": "code",
   "execution_count": 229,
   "id": "5854c1dc",
   "metadata": {},
   "outputs": [],
   "source": [
    "all_data['Exterior1st'] = all_data['Exterior1st'].fillna(train['Exterior1st'].mode()[0])\n",
    "all_data['Exterior2nd'] = all_data['Exterior2nd'].fillna(train['Exterior2nd'].mode()[0])"
   ]
  },
  {
   "cell_type": "code",
   "execution_count": 230,
   "id": "482d517d",
   "metadata": {},
   "outputs": [],
   "source": [
    "all_data['SaleType'] = all_data['SaleType'].fillna(train['SaleType'].mode()[0])"
   ]
  },
  {
   "cell_type": "code",
   "execution_count": 231,
   "id": "0dc5fda9",
   "metadata": {},
   "outputs": [],
   "source": [
    "all_data['MSSubClass'] = all_data['MSSubClass'].fillna(\"None\")"
   ]
  },
  {
   "cell_type": "markdown",
   "id": "70f1be96",
   "metadata": {},
   "source": [
    "Kiểm tra một lần nữa xem liệu có missing value hay không"
   ]
  },
  {
   "cell_type": "code",
   "execution_count": 232,
   "id": "7d12c42d",
   "metadata": {},
   "outputs": [
    {
     "data": {
      "text/html": [
       "<div>\n",
       "<style scoped>\n",
       "    .dataframe tbody tr th:only-of-type {\n",
       "        vertical-align: middle;\n",
       "    }\n",
       "\n",
       "    .dataframe tbody tr th {\n",
       "        vertical-align: top;\n",
       "    }\n",
       "\n",
       "    .dataframe thead th {\n",
       "        text-align: right;\n",
       "    }\n",
       "</style>\n",
       "<table border=\"1\" class=\"dataframe\">\n",
       "  <thead>\n",
       "    <tr style=\"text-align: right;\">\n",
       "      <th></th>\n",
       "      <th>Missing Ratio</th>\n",
       "    </tr>\n",
       "  </thead>\n",
       "  <tbody>\n",
       "  </tbody>\n",
       "</table>\n",
       "</div>"
      ],
      "text/plain": [
       "Empty DataFrame\n",
       "Columns: [Missing Ratio]\n",
       "Index: []"
      ]
     },
     "execution_count": 232,
     "metadata": {},
     "output_type": "execute_result"
    }
   ],
   "source": [
    "all_data_na = (all_data.isnull().sum() / len(all_data)) * 100\n",
    "all_data_na = all_data_na.drop(all_data_na[all_data_na == 0].index).sort_values(ascending=False)\n",
    "missing_data = pd.DataFrame({'Missing Ratio' :all_data_na})\n",
    "missing_data.head()"
   ]
  },
  {
   "cell_type": "markdown",
   "id": "051287f3",
   "metadata": {},
   "source": [
    "## More features engeneering"
   ]
  },
  {
   "cell_type": "markdown",
   "id": "35f19909",
   "metadata": {},
   "source": [
    "Trong số các features lưu ở dạng numeric, có những features thực chất là biến category. Do đó cần kiểm tra thật kỹ toàn bộ các features."
   ]
  },
  {
   "cell_type": "code",
   "execution_count": 233,
   "id": "8a8b6cf6",
   "metadata": {},
   "outputs": [],
   "source": [
    "#MSSubClass=The building class\n",
    "all_data['MSSubClass'] = all_data['MSSubClass'].apply(str)\n",
    "\n",
    "\n",
    "#Changing OverallCond into a categorical variable\n",
    "all_data['OverallCond'] = all_data['OverallCond'].astype(str)\n",
    "\n",
    "\n",
    "#Year and month sold are transformed into categorical features.\n",
    "all_data['YrSold'] = all_data['YrSold'].astype(str)\n",
    "all_data['MoSold'] = all_data['MoSold'].astype(str)"
   ]
  },
  {
   "cell_type": "markdown",
   "id": "3ee49394",
   "metadata": {},
   "source": [
    "Ngoài ra, ta có thể kết hợp các cột lại để tạo nên một cột mới. Ví dụ như diện tích tầng hầm + diện tích tầng 1 và tầng 2 tạo thành tổng diện tích căn nhà."
   ]
  },
  {
   "cell_type": "code",
   "execution_count": 234,
   "id": "5d54048a",
   "metadata": {},
   "outputs": [],
   "source": [
    "all_data['TotalSF'] = all_data['TotalBsmtSF'] + all_data['1stFlrSF'] + all_data['2ndFlrSF']"
   ]
  },
  {
   "cell_type": "code",
   "execution_count": 235,
   "id": "34d96fcf",
   "metadata": {},
   "outputs": [],
   "source": [
    "all_data = all_data.drop(columns = ['TotalBsmtSF', '1stFlrSF', '2ndFlrSF'])"
   ]
  },
  {
   "cell_type": "markdown",
   "id": "deaaf86d",
   "metadata": {},
   "source": [
    "### Kiểm tra skewness của các features"
   ]
  },
  {
   "cell_type": "code",
   "execution_count": 236,
   "id": "3d957957",
   "metadata": {},
   "outputs": [],
   "source": [
    "train = all_data[:ntrain]\n",
    "test = all_data[ntrain:]"
   ]
  },
  {
   "cell_type": "code",
   "execution_count": 237,
   "id": "550c8eb7",
   "metadata": {
    "scrolled": false
   },
   "outputs": [
    {
     "name": "stdout",
     "output_type": "stream",
     "text": [
      "\n",
      "Skew in numerical features: \n",
      "\n"
     ]
    },
    {
     "data": {
      "text/html": [
       "<div>\n",
       "<style scoped>\n",
       "    .dataframe tbody tr th:only-of-type {\n",
       "        vertical-align: middle;\n",
       "    }\n",
       "\n",
       "    .dataframe tbody tr th {\n",
       "        vertical-align: top;\n",
       "    }\n",
       "\n",
       "    .dataframe thead th {\n",
       "        text-align: right;\n",
       "    }\n",
       "</style>\n",
       "<table border=\"1\" class=\"dataframe\">\n",
       "  <thead>\n",
       "    <tr style=\"text-align: right;\">\n",
       "      <th></th>\n",
       "      <th>Skew</th>\n",
       "    </tr>\n",
       "  </thead>\n",
       "  <tbody>\n",
       "    <tr>\n",
       "      <th>MiscVal</th>\n",
       "      <td>24.434913</td>\n",
       "    </tr>\n",
       "    <tr>\n",
       "      <th>PoolArea</th>\n",
       "      <td>15.932532</td>\n",
       "    </tr>\n",
       "    <tr>\n",
       "      <th>LotArea</th>\n",
       "      <td>12.560986</td>\n",
       "    </tr>\n",
       "    <tr>\n",
       "      <th>3SsnPorch</th>\n",
       "      <td>10.286510</td>\n",
       "    </tr>\n",
       "    <tr>\n",
       "      <th>LowQualFinSF</th>\n",
       "      <td>8.995688</td>\n",
       "    </tr>\n",
       "    <tr>\n",
       "      <th>KitchenAbvGr</th>\n",
       "      <td>4.480268</td>\n",
       "    </tr>\n",
       "    <tr>\n",
       "      <th>BsmtFinSF2</th>\n",
       "      <td>4.247550</td>\n",
       "    </tr>\n",
       "    <tr>\n",
       "      <th>ScreenPorch</th>\n",
       "      <td>4.114690</td>\n",
       "    </tr>\n",
       "    <tr>\n",
       "      <th>BsmtHalfBath</th>\n",
       "      <td>4.095895</td>\n",
       "    </tr>\n",
       "    <tr>\n",
       "      <th>EnclosedPorch</th>\n",
       "      <td>3.083987</td>\n",
       "    </tr>\n",
       "  </tbody>\n",
       "</table>\n",
       "</div>"
      ],
      "text/plain": [
       "                    Skew\n",
       "MiscVal        24.434913\n",
       "PoolArea       15.932532\n",
       "LotArea        12.560986\n",
       "3SsnPorch      10.286510\n",
       "LowQualFinSF    8.995688\n",
       "KitchenAbvGr    4.480268\n",
       "BsmtFinSF2      4.247550\n",
       "ScreenPorch     4.114690\n",
       "BsmtHalfBath    4.095895\n",
       "EnclosedPorch   3.083987"
      ]
     },
     "execution_count": 237,
     "metadata": {},
     "output_type": "execute_result"
    }
   ],
   "source": [
    "numeric_feats = train.dtypes[train.dtypes != \"object\"].index\n",
    "\n",
    "# Check the skew of all numerical features\n",
    "skewed_feats = train[numeric_feats].apply(lambda x: skew(x.dropna())).sort_values(ascending=False)\n",
    "print(\"\\nSkew in numerical features: \\n\")\n",
    "skewness = pd.DataFrame({'Skew' :skewed_feats})\n",
    "skewness.head(10)"
   ]
  },
  {
   "cell_type": "markdown",
   "id": "1088d7a6",
   "metadata": {},
   "source": [
    "Thay vì sử dụng Log-transform, thì ở đây tác giả sử dụng Box Cox transform. Bạn không cần biết nó làm gì bên trong, chỉ cần thử áp dụng.\n",
    "\n",
    "Ta sẽ áp dụng cho những features có độ lệch > 0.75"
   ]
  },
  {
   "cell_type": "code",
   "execution_count": 238,
   "id": "8602c5c8",
   "metadata": {},
   "outputs": [
    {
     "name": "stdout",
     "output_type": "stream",
     "text": [
      "There are 30 skewed numerical features to Box Cox transform\n"
     ]
    }
   ],
   "source": [
    "skewness = skewness[abs(skewness) > 0.75]\n",
    "print(\"There are {} skewed numerical features to Box Cox transform\".format(skewness.shape[0]))"
   ]
  },
  {
   "cell_type": "code",
   "execution_count": 239,
   "id": "0ecc3fb7",
   "metadata": {},
   "outputs": [],
   "source": [
    "from scipy.special import boxcox1p\n",
    "skewed_features = skewness.index\n",
    "lam = 0.15\n",
    "for feat in skewed_features:\n",
    "    #all_data[feat] += 1\n",
    "    train[feat] = boxcox1p(train[feat], lam)"
   ]
  },
  {
   "cell_type": "code",
   "execution_count": 240,
   "id": "cf8145ef",
   "metadata": {},
   "outputs": [],
   "source": [
    "all_data = pd.concat((train, test)).reset_index(drop=True)"
   ]
  },
  {
   "cell_type": "markdown",
   "id": "7f98c833",
   "metadata": {},
   "source": [
    "## Label Encoder"
   ]
  },
  {
   "cell_type": "code",
   "execution_count": 241,
   "id": "ac3c0d26",
   "metadata": {},
   "outputs": [],
   "source": [
    "from sklearn.preprocessing import LabelEncoder\n",
    "cols = ['BsmtCond', 'KitchenQual', 'BsmtFinType1', 'Functional', 'Fence', 'BsmtExposure', \n",
    "        'GarageFinish', 'PavedDrive', 'MSSubClass', 'YrSold', 'MoSold', 'MSZoning', 'Street', \n",
    "        'Alley', 'LotShape', 'LandContour', 'SaleType', 'SaleCondition', 'Exterior2nd',\n",
    "        'LotConfig', 'LandSlope', 'Condition1', 'Condition2', 'BldgType', 'HouseStyle', 'OverallCond', \n",
    "        'RoofStyle', 'RoofMatl', 'MasVnrType', 'ExterQual', 'ExterCond', 'Foundation', 'BsmtQual', \n",
    "         'BsmtFinType2', 'Heating', 'HeatingQC', 'CentralAir', 'Exterior1st', 'Neighborhood',\n",
    "        'Electrical', 'BsmtFullBath', 'BsmtHalfBath', 'FullBath', 'HalfBath', 'BedroomAbvGr', 'KitchenAbvGr', \n",
    "        'FireplaceQu', 'GarageType', 'GarageCars', 'GarageQual', 'GarageCond', 'PoolArea', 'PoolQC', 'MiscFeature'\n",
    "       ]\n",
    "# process columns, apply LabelEncoder to categorical features\n",
    "all_data[cols] = all_data[cols].apply(LabelEncoder().fit_transform)"
   ]
  },
  {
   "cell_type": "markdown",
   "id": "23d4a378",
   "metadata": {},
   "source": [
    "## Check hệ số VIF"
   ]
  },
  {
   "cell_type": "code",
   "execution_count": 242,
   "id": "a92e3d25",
   "metadata": {},
   "outputs": [],
   "source": [
    "from statsmodels.stats.outliers_influence import variance_inflation_factor "
   ]
  },
  {
   "cell_type": "code",
   "execution_count": 243,
   "id": "c89be5de",
   "metadata": {},
   "outputs": [],
   "source": [
    "def check_VIF(df):\n",
    "    # VIF dataframe \n",
    "    vif_data = pd.DataFrame() \n",
    "    \n",
    "    vif_data[\"feature\"] = df.columns\n",
    "    # calculating VIF for each feature \n",
    "    vif_data[\"VIF\"] = [variance_inflation_factor(df.values, i) \n",
    "                                          for i in range(len(vif_data))] \n",
    "    return vif_data.sort_values(by = 'VIF', ascending = False)"
   ]
  },
  {
   "cell_type": "code",
   "execution_count": 244,
   "id": "184eccbc",
   "metadata": {},
   "outputs": [],
   "source": [
    "all_data = all_data * 1\n",
    "all_data = all_data.astype(float)"
   ]
  },
  {
   "cell_type": "code",
   "execution_count": 245,
   "id": "0225f2be",
   "metadata": {},
   "outputs": [
    {
     "name": "stdout",
     "output_type": "stream",
     "text": [
      "['TotalSF'] [355287.87307797]\n",
      "['YearBuilt'] [11687.07585097]\n",
      "['PoolQC'] [405.51509151]\n",
      "['Street'] [193.67063892]\n",
      "['Condition2'] [82.07265107]\n",
      "['TotRmsAbvGrd'] [80.54437371]\n",
      "['OverallQual'] [65.64410243]\n",
      "['GarageCond'] [60.78010599]\n",
      "['YearRemodAdd'] [56.81344911]\n",
      "['Functional'] [40.7341548]\n"
     ]
    }
   ],
   "source": [
    "while True:\n",
    "    df_vif = check_VIF(all_data)\n",
    "    if df_vif.VIF.head(1).values < 40:\n",
    "        break\n",
    "    temp = df_vif.feature.head(1).values\n",
    "    print(temp, df_vif.VIF.head(1).values)\n",
    "    all_data.drop(columns = temp, inplace = True)"
   ]
  },
  {
   "cell_type": "markdown",
   "id": "d524f0a6",
   "metadata": {},
   "source": [
    "## Dummies"
   ]
  },
  {
   "cell_type": "code",
   "execution_count": 246,
   "id": "7207815f",
   "metadata": {
    "scrolled": true
   },
   "outputs": [
    {
     "name": "stdout",
     "output_type": "stream",
     "text": [
      "(2917, 66)\n"
     ]
    }
   ],
   "source": [
    "all_data = pd.get_dummies(all_data)\n",
    "print(all_data.shape)"
   ]
  },
  {
   "cell_type": "markdown",
   "id": "2c0575c3",
   "metadata": {},
   "source": [
    "## Model"
   ]
  },
  {
   "cell_type": "code",
   "execution_count": 247,
   "id": "32428d37",
   "metadata": {},
   "outputs": [],
   "source": [
    "train = all_data[:ntrain]\n",
    "test = all_data[ntrain:]"
   ]
  },
  {
   "cell_type": "code",
   "execution_count": 248,
   "id": "9c980350",
   "metadata": {},
   "outputs": [],
   "source": [
    "from sklearn.linear_model import ElasticNet, Lasso,  BayesianRidge, LassoLarsIC\n",
    "from sklearn.ensemble import RandomForestRegressor,  GradientBoostingRegressor\n",
    "from sklearn.kernel_ridge import KernelRidge\n",
    "from sklearn.pipeline import make_pipeline\n",
    "from sklearn.preprocessing import RobustScaler\n",
    "from sklearn.base import BaseEstimator, TransformerMixin, RegressorMixin, clone\n",
    "from sklearn.model_selection import KFold, cross_val_score, train_test_split\n",
    "from sklearn.metrics import mean_squared_error\n",
    "import xgboost as xgb\n",
    "import lightgbm as lgb"
   ]
  },
  {
   "cell_type": "code",
   "execution_count": 249,
   "id": "3482410d",
   "metadata": {},
   "outputs": [],
   "source": [
    "#Validation function\n",
    "n_folds = 5\n",
    "\n",
    "def rmsle_cv(model):\n",
    "    kf = KFold(n_folds, shuffle=True, random_state=42).get_n_splits(train.values)\n",
    "    rmse= np.sqrt(-cross_val_score(model, train.values, y_train, scoring=\"neg_mean_squared_error\", cv = kf))\n",
    "    return(rmse)"
   ]
  },
  {
   "cell_type": "code",
   "execution_count": 250,
   "id": "9075e435",
   "metadata": {},
   "outputs": [],
   "source": [
    "lasso = make_pipeline(RobustScaler(), Lasso(alpha =0.0005, random_state=1))"
   ]
  },
  {
   "cell_type": "code",
   "execution_count": 251,
   "id": "b128118e",
   "metadata": {},
   "outputs": [],
   "source": [
    "ENet = make_pipeline(RobustScaler(), ElasticNet(alpha=0.0005, l1_ratio=.9, random_state=3))"
   ]
  },
  {
   "cell_type": "code",
   "execution_count": 252,
   "id": "4dcb0b83",
   "metadata": {},
   "outputs": [],
   "source": [
    "KRR = KernelRidge(alpha=0.6, kernel='polynomial', degree=2, coef0=2.5)"
   ]
  },
  {
   "cell_type": "code",
   "execution_count": 253,
   "id": "5b5baca9",
   "metadata": {},
   "outputs": [],
   "source": [
    "GBoost = GradientBoostingRegressor(n_estimators=3000, learning_rate=0.05,\n",
    "                                   max_depth=4, max_features='sqrt',\n",
    "                                   min_samples_leaf=15, min_samples_split=10, \n",
    "                                   loss='huber', random_state =5)"
   ]
  },
  {
   "cell_type": "code",
   "execution_count": 254,
   "id": "c45ebd51",
   "metadata": {},
   "outputs": [],
   "source": [
    "model_xgb = xgb.XGBRegressor(colsample_bytree=0.4603, gamma=0.0468, \n",
    "                             learning_rate=0.05, max_depth=3, \n",
    "                             min_child_weight=1.7817, n_estimators=2200,\n",
    "                             reg_alpha=0.4640, reg_lambda=0.8571,\n",
    "                             subsample=0.5213, silent=1,\n",
    "                             random_state =7, nthread = -1)"
   ]
  },
  {
   "cell_type": "code",
   "execution_count": 255,
   "id": "de86e09b",
   "metadata": {},
   "outputs": [],
   "source": [
    "model_lgb = lgb.LGBMRegressor(objective='regression',num_leaves=5,\n",
    "                              learning_rate=0.05, n_estimators=720,\n",
    "                              max_bin = 55, bagging_fraction = 0.8,\n",
    "                              bagging_freq = 5, feature_fraction = 0.2319,\n",
    "                              feature_fraction_seed=9, bagging_seed=9,\n",
    "                              min_data_in_leaf =6, min_sum_hessian_in_leaf = 11)"
   ]
  },
  {
   "cell_type": "code",
   "execution_count": 256,
   "id": "9e37cbc4",
   "metadata": {},
   "outputs": [
    {
     "name": "stdout",
     "output_type": "stream",
     "text": [
      "\n",
      "Lasso score: 0.1404 (0.0060)\n",
      "\n"
     ]
    }
   ],
   "source": [
    "score = rmsle_cv(lasso)\n",
    "print(\"\\nLasso score: {:.4f} ({:.4f})\\n\".format(score.mean(), score.std()))"
   ]
  },
  {
   "cell_type": "code",
   "execution_count": 257,
   "id": "5f63bdaa",
   "metadata": {},
   "outputs": [
    {
     "name": "stdout",
     "output_type": "stream",
     "text": [
      "ElasticNet score: 0.1404 (0.0060)\n",
      "\n"
     ]
    }
   ],
   "source": [
    "score = rmsle_cv(ENet)\n",
    "print(\"ElasticNet score: {:.4f} ({:.4f})\\n\".format(score.mean(), score.std()))"
   ]
  },
  {
   "cell_type": "code",
   "execution_count": 258,
   "id": "d70181d0",
   "metadata": {},
   "outputs": [
    {
     "name": "stdout",
     "output_type": "stream",
     "text": [
      "Kernel Ridge score: 0.1637 (0.0089)\n",
      "\n"
     ]
    }
   ],
   "source": [
    "score = rmsle_cv(KRR)\n",
    "print(\"Kernel Ridge score: {:.4f} ({:.4f})\\n\".format(score.mean(), score.std()))"
   ]
  },
  {
   "cell_type": "code",
   "execution_count": 259,
   "id": "f6dae5e9",
   "metadata": {},
   "outputs": [
    {
     "name": "stdout",
     "output_type": "stream",
     "text": [
      "Gradient Boosting score: 0.1225 (0.0093)\n",
      "\n"
     ]
    }
   ],
   "source": [
    "score = rmsle_cv(GBoost)\n",
    "print(\"Gradient Boosting score: {:.4f} ({:.4f})\\n\".format(score.mean(), score.std()))"
   ]
  },
  {
   "cell_type": "code",
   "execution_count": 260,
   "id": "6faa46f4",
   "metadata": {},
   "outputs": [
    {
     "name": "stdout",
     "output_type": "stream",
     "text": [
      "Xgboost score: 0.1232 (0.0093)\n",
      "\n"
     ]
    }
   ],
   "source": [
    "score = rmsle_cv(model_xgb)\n",
    "print(\"Xgboost score: {:.4f} ({:.4f})\\n\".format(score.mean(), score.std()))"
   ]
  },
  {
   "cell_type": "code",
   "execution_count": 261,
   "id": "82ee80ea",
   "metadata": {
    "scrolled": true
   },
   "outputs": [
    {
     "name": "stdout",
     "output_type": "stream",
     "text": [
      "[LightGBM] [Warning] min_data_in_leaf is set=6, min_child_samples=20 will be ignored. Current value: min_data_in_leaf=6\n",
      "[LightGBM] [Warning] feature_fraction is set=0.2319, colsample_bytree=1.0 will be ignored. Current value: feature_fraction=0.2319\n",
      "[LightGBM] [Warning] min_sum_hessian_in_leaf is set=11, min_child_weight=0.001 will be ignored. Current value: min_sum_hessian_in_leaf=11\n",
      "[LightGBM] [Warning] bagging_fraction is set=0.8, subsample=1.0 will be ignored. Current value: bagging_fraction=0.8\n",
      "[LightGBM] [Warning] bagging_freq is set=5, subsample_freq=0 will be ignored. Current value: bagging_freq=5\n",
      "[LightGBM] [Warning] min_data_in_leaf is set=6, min_child_samples=20 will be ignored. Current value: min_data_in_leaf=6\n",
      "[LightGBM] [Warning] feature_fraction is set=0.2319, colsample_bytree=1.0 will be ignored. Current value: feature_fraction=0.2319\n",
      "[LightGBM] [Warning] min_sum_hessian_in_leaf is set=11, min_child_weight=0.001 will be ignored. Current value: min_sum_hessian_in_leaf=11\n",
      "[LightGBM] [Warning] bagging_fraction is set=0.8, subsample=1.0 will be ignored. Current value: bagging_fraction=0.8\n",
      "[LightGBM] [Warning] bagging_freq is set=5, subsample_freq=0 will be ignored. Current value: bagging_freq=5\n",
      "[LightGBM] [Info] Auto-choosing row-wise multi-threading, the overhead of testing was 0.001126 seconds.\n",
      "You can set `force_row_wise=true` to remove the overhead.\n",
      "And if memory is not enough, you can set `force_col_wise=true`.\n",
      "[LightGBM] [Info] Total Bins 990\n",
      "[LightGBM] [Info] Number of data points in the train set: 1166, number of used features: 65\n",
      "[LightGBM] [Info] Start training from score 12.021345\n",
      "[LightGBM] [Warning] min_data_in_leaf is set=6, min_child_samples=20 will be ignored. Current value: min_data_in_leaf=6\n",
      "[LightGBM] [Warning] feature_fraction is set=0.2319, colsample_bytree=1.0 will be ignored. Current value: feature_fraction=0.2319\n",
      "[LightGBM] [Warning] min_sum_hessian_in_leaf is set=11, min_child_weight=0.001 will be ignored. Current value: min_sum_hessian_in_leaf=11\n",
      "[LightGBM] [Warning] bagging_fraction is set=0.8, subsample=1.0 will be ignored. Current value: bagging_fraction=0.8\n",
      "[LightGBM] [Warning] bagging_freq is set=5, subsample_freq=0 will be ignored. Current value: bagging_freq=5\n",
      "[LightGBM] [Warning] min_data_in_leaf is set=6, min_child_samples=20 will be ignored. Current value: min_data_in_leaf=6\n",
      "[LightGBM] [Warning] feature_fraction is set=0.2319, colsample_bytree=1.0 will be ignored. Current value: feature_fraction=0.2319\n",
      "[LightGBM] [Warning] min_sum_hessian_in_leaf is set=11, min_child_weight=0.001 will be ignored. Current value: min_sum_hessian_in_leaf=11\n",
      "[LightGBM] [Warning] bagging_fraction is set=0.8, subsample=1.0 will be ignored. Current value: bagging_fraction=0.8\n",
      "[LightGBM] [Warning] bagging_freq is set=5, subsample_freq=0 will be ignored. Current value: bagging_freq=5\n",
      "[LightGBM] [Warning] min_data_in_leaf is set=6, min_child_samples=20 will be ignored. Current value: min_data_in_leaf=6\n",
      "[LightGBM] [Warning] feature_fraction is set=0.2319, colsample_bytree=1.0 will be ignored. Current value: feature_fraction=0.2319\n",
      "[LightGBM] [Warning] min_sum_hessian_in_leaf is set=11, min_child_weight=0.001 will be ignored. Current value: min_sum_hessian_in_leaf=11\n",
      "[LightGBM] [Warning] bagging_fraction is set=0.8, subsample=1.0 will be ignored. Current value: bagging_fraction=0.8\n",
      "[LightGBM] [Warning] bagging_freq is set=5, subsample_freq=0 will be ignored. Current value: bagging_freq=5\n",
      "[LightGBM] [Info] Auto-choosing row-wise multi-threading, the overhead of testing was 0.000487 seconds.\n",
      "You can set `force_row_wise=true` to remove the overhead.\n",
      "And if memory is not enough, you can set `force_col_wise=true`.\n",
      "[LightGBM] [Info] Total Bins 997\n",
      "[LightGBM] [Info] Number of data points in the train set: 1166, number of used features: 66\n",
      "[LightGBM] [Info] Start training from score 12.023509\n",
      "[LightGBM] [Warning] min_data_in_leaf is set=6, min_child_samples=20 will be ignored. Current value: min_data_in_leaf=6\n",
      "[LightGBM] [Warning] feature_fraction is set=0.2319, colsample_bytree=1.0 will be ignored. Current value: feature_fraction=0.2319\n",
      "[LightGBM] [Warning] min_sum_hessian_in_leaf is set=11, min_child_weight=0.001 will be ignored. Current value: min_sum_hessian_in_leaf=11\n",
      "[LightGBM] [Warning] bagging_fraction is set=0.8, subsample=1.0 will be ignored. Current value: bagging_fraction=0.8\n",
      "[LightGBM] [Warning] bagging_freq is set=5, subsample_freq=0 will be ignored. Current value: bagging_freq=5\n",
      "[LightGBM] [Warning] min_data_in_leaf is set=6, min_child_samples=20 will be ignored. Current value: min_data_in_leaf=6\n",
      "[LightGBM] [Warning] feature_fraction is set=0.2319, colsample_bytree=1.0 will be ignored. Current value: feature_fraction=0.2319\n",
      "[LightGBM] [Warning] min_sum_hessian_in_leaf is set=11, min_child_weight=0.001 will be ignored. Current value: min_sum_hessian_in_leaf=11\n",
      "[LightGBM] [Warning] bagging_fraction is set=0.8, subsample=1.0 will be ignored. Current value: bagging_fraction=0.8\n",
      "[LightGBM] [Warning] bagging_freq is set=5, subsample_freq=0 will be ignored. Current value: bagging_freq=5\n",
      "[LightGBM] [Warning] min_data_in_leaf is set=6, min_child_samples=20 will be ignored. Current value: min_data_in_leaf=6\n",
      "[LightGBM] [Warning] feature_fraction is set=0.2319, colsample_bytree=1.0 will be ignored. Current value: feature_fraction=0.2319\n",
      "[LightGBM] [Warning] min_sum_hessian_in_leaf is set=11, min_child_weight=0.001 will be ignored. Current value: min_sum_hessian_in_leaf=11\n",
      "[LightGBM] [Warning] bagging_fraction is set=0.8, subsample=1.0 will be ignored. Current value: bagging_fraction=0.8\n",
      "[LightGBM] [Warning] bagging_freq is set=5, subsample_freq=0 will be ignored. Current value: bagging_freq=5\n",
      "[LightGBM] [Info] Auto-choosing row-wise multi-threading, the overhead of testing was 0.000334 seconds.\n",
      "You can set `force_row_wise=true` to remove the overhead.\n",
      "And if memory is not enough, you can set `force_col_wise=true`.\n",
      "[LightGBM] [Info] Total Bins 993\n",
      "[LightGBM] [Info] Number of data points in the train set: 1166, number of used features: 65\n",
      "[LightGBM] [Info] Start training from score 12.020676\n",
      "[LightGBM] [Warning] min_data_in_leaf is set=6, min_child_samples=20 will be ignored. Current value: min_data_in_leaf=6\n",
      "[LightGBM] [Warning] feature_fraction is set=0.2319, colsample_bytree=1.0 will be ignored. Current value: feature_fraction=0.2319\n",
      "[LightGBM] [Warning] min_sum_hessian_in_leaf is set=11, min_child_weight=0.001 will be ignored. Current value: min_sum_hessian_in_leaf=11\n",
      "[LightGBM] [Warning] bagging_fraction is set=0.8, subsample=1.0 will be ignored. Current value: bagging_fraction=0.8\n",
      "[LightGBM] [Warning] bagging_freq is set=5, subsample_freq=0 will be ignored. Current value: bagging_freq=5\n",
      "[LightGBM] [Warning] min_data_in_leaf is set=6, min_child_samples=20 will be ignored. Current value: min_data_in_leaf=6\n",
      "[LightGBM] [Warning] feature_fraction is set=0.2319, colsample_bytree=1.0 will be ignored. Current value: feature_fraction=0.2319\n",
      "[LightGBM] [Warning] min_sum_hessian_in_leaf is set=11, min_child_weight=0.001 will be ignored. Current value: min_sum_hessian_in_leaf=11\n",
      "[LightGBM] [Warning] bagging_fraction is set=0.8, subsample=1.0 will be ignored. Current value: bagging_fraction=0.8\n",
      "[LightGBM] [Warning] bagging_freq is set=5, subsample_freq=0 will be ignored. Current value: bagging_freq=5\n",
      "[LightGBM] [Warning] min_data_in_leaf is set=6, min_child_samples=20 will be ignored. Current value: min_data_in_leaf=6\n",
      "[LightGBM] [Warning] feature_fraction is set=0.2319, colsample_bytree=1.0 will be ignored. Current value: feature_fraction=0.2319\n",
      "[LightGBM] [Warning] min_sum_hessian_in_leaf is set=11, min_child_weight=0.001 will be ignored. Current value: min_sum_hessian_in_leaf=11\n",
      "[LightGBM] [Warning] bagging_fraction is set=0.8, subsample=1.0 will be ignored. Current value: bagging_fraction=0.8\n",
      "[LightGBM] [Warning] bagging_freq is set=5, subsample_freq=0 will be ignored. Current value: bagging_freq=5\n",
      "[LightGBM] [Info] Auto-choosing col-wise multi-threading, the overhead of testing was 0.000961 seconds.\n",
      "You can set `force_col_wise=true` to remove the overhead.\n",
      "[LightGBM] [Info] Total Bins 1000\n",
      "[LightGBM] [Info] Number of data points in the train set: 1167, number of used features: 66\n",
      "[LightGBM] [Info] Start training from score 12.032706\n",
      "[LightGBM] [Warning] min_data_in_leaf is set=6, min_child_samples=20 will be ignored. Current value: min_data_in_leaf=6\n",
      "[LightGBM] [Warning] feature_fraction is set=0.2319, colsample_bytree=1.0 will be ignored. Current value: feature_fraction=0.2319\n",
      "[LightGBM] [Warning] min_sum_hessian_in_leaf is set=11, min_child_weight=0.001 will be ignored. Current value: min_sum_hessian_in_leaf=11\n",
      "[LightGBM] [Warning] bagging_fraction is set=0.8, subsample=1.0 will be ignored. Current value: bagging_fraction=0.8\n",
      "[LightGBM] [Warning] bagging_freq is set=5, subsample_freq=0 will be ignored. Current value: bagging_freq=5\n"
     ]
    },
    {
     "name": "stdout",
     "output_type": "stream",
     "text": [
      "[LightGBM] [Warning] min_data_in_leaf is set=6, min_child_samples=20 will be ignored. Current value: min_data_in_leaf=6\n",
      "[LightGBM] [Warning] feature_fraction is set=0.2319, colsample_bytree=1.0 will be ignored. Current value: feature_fraction=0.2319\n",
      "[LightGBM] [Warning] min_sum_hessian_in_leaf is set=11, min_child_weight=0.001 will be ignored. Current value: min_sum_hessian_in_leaf=11\n",
      "[LightGBM] [Warning] bagging_fraction is set=0.8, subsample=1.0 will be ignored. Current value: bagging_fraction=0.8\n",
      "[LightGBM] [Warning] bagging_freq is set=5, subsample_freq=0 will be ignored. Current value: bagging_freq=5\n",
      "[LightGBM] [Warning] min_data_in_leaf is set=6, min_child_samples=20 will be ignored. Current value: min_data_in_leaf=6\n",
      "[LightGBM] [Warning] feature_fraction is set=0.2319, colsample_bytree=1.0 will be ignored. Current value: feature_fraction=0.2319\n",
      "[LightGBM] [Warning] min_sum_hessian_in_leaf is set=11, min_child_weight=0.001 will be ignored. Current value: min_sum_hessian_in_leaf=11\n",
      "[LightGBM] [Warning] bagging_fraction is set=0.8, subsample=1.0 will be ignored. Current value: bagging_fraction=0.8\n",
      "[LightGBM] [Warning] bagging_freq is set=5, subsample_freq=0 will be ignored. Current value: bagging_freq=5\n",
      "[LightGBM] [Info] Auto-choosing row-wise multi-threading, the overhead of testing was 0.000572 seconds.\n",
      "You can set `force_row_wise=true` to remove the overhead.\n",
      "And if memory is not enough, you can set `force_col_wise=true`.\n",
      "[LightGBM] [Info] Total Bins 992\n",
      "[LightGBM] [Info] Number of data points in the train set: 1167, number of used features: 65\n",
      "[LightGBM] [Info] Start training from score 12.021801\n",
      "[LightGBM] [Warning] min_data_in_leaf is set=6, min_child_samples=20 will be ignored. Current value: min_data_in_leaf=6\n",
      "[LightGBM] [Warning] feature_fraction is set=0.2319, colsample_bytree=1.0 will be ignored. Current value: feature_fraction=0.2319\n",
      "[LightGBM] [Warning] min_sum_hessian_in_leaf is set=11, min_child_weight=0.001 will be ignored. Current value: min_sum_hessian_in_leaf=11\n",
      "[LightGBM] [Warning] bagging_fraction is set=0.8, subsample=1.0 will be ignored. Current value: bagging_fraction=0.8\n",
      "[LightGBM] [Warning] bagging_freq is set=5, subsample_freq=0 will be ignored. Current value: bagging_freq=5\n",
      "LGBM score: 0.1239 (0.0075)\n",
      "\n"
     ]
    }
   ],
   "source": [
    "score = rmsle_cv(model_lgb)\n",
    "print(\"LGBM score: {:.4f} ({:.4f})\\n\" .format(score.mean(), score.std()))"
   ]
  },
  {
   "cell_type": "markdown",
   "id": "04e5d292",
   "metadata": {},
   "source": [
    "## Stacking models"
   ]
  },
  {
   "cell_type": "code",
   "execution_count": 262,
   "id": "07dd2400",
   "metadata": {},
   "outputs": [],
   "source": [
    "class AveragingModels(BaseEstimator, RegressorMixin, TransformerMixin):\n",
    "    def __init__(self, models):\n",
    "        self.models = models\n",
    "        \n",
    "    # we define clones of the original models to fit the data in\n",
    "    def fit(self, X, y):\n",
    "        self.models_ = [clone(x) for x in self.models]\n",
    "        \n",
    "        # Train cloned base models\n",
    "        for model in self.models_:\n",
    "            model.fit(X, y)\n",
    "\n",
    "        return self\n",
    "    \n",
    "    #Now we do the predictions for cloned models and average them\n",
    "    def predict(self, X):\n",
    "        predictions = np.column_stack([\n",
    "            model.predict(X) for model in self.models_\n",
    "        ])\n",
    "        return np.mean(predictions, axis=1)   "
   ]
  },
  {
   "cell_type": "code",
   "execution_count": 263,
   "id": "03427520",
   "metadata": {},
   "outputs": [
    {
     "name": "stdout",
     "output_type": "stream",
     "text": [
      " Averaged base models score: 0.1269 (0.0078)\n",
      "\n"
     ]
    }
   ],
   "source": [
    "averaged_models = AveragingModels(models = (ENet, GBoost, KRR, lasso))\n",
    "\n",
    "score = rmsle_cv(averaged_models)\n",
    "print(\" Averaged base models score: {:.4f} ({:.4f})\\n\".format(score.mean(), score.std()))"
   ]
  },
  {
   "cell_type": "code",
   "execution_count": 264,
   "id": "98af535c",
   "metadata": {},
   "outputs": [],
   "source": [
    "class StackingAveragedModels(BaseEstimator, RegressorMixin, TransformerMixin):\n",
    "    def __init__(self, base_models, meta_model, n_folds=5):\n",
    "        self.base_models = base_models\n",
    "        self.meta_model = meta_model\n",
    "        self.n_folds = n_folds\n",
    "   \n",
    "    # We again fit the data on clones of the original models\n",
    "    def fit(self, X, y):\n",
    "        self.base_models_ = [list() for x in self.base_models]\n",
    "        self.meta_model_ = clone(self.meta_model)\n",
    "        kfold = KFold(n_splits=self.n_folds, shuffle=True, random_state=156)\n",
    "        \n",
    "        # Train cloned base models then create out-of-fold predictions\n",
    "        # that are needed to train the cloned meta-model\n",
    "        out_of_fold_predictions = np.zeros((X.shape[0], len(self.base_models)))\n",
    "        for i, model in enumerate(self.base_models):\n",
    "            for train_index, holdout_index in kfold.split(X, y):\n",
    "                instance = clone(model)\n",
    "                self.base_models_[i].append(instance)\n",
    "                instance.fit(X[train_index], y[train_index])\n",
    "                y_pred = instance.predict(X[holdout_index])\n",
    "                out_of_fold_predictions[holdout_index, i] = y_pred\n",
    "                \n",
    "        # Now train the cloned  meta-model using the out-of-fold predictions as new feature\n",
    "        self.meta_model_.fit(out_of_fold_predictions, y)\n",
    "        return self\n",
    "   \n",
    "    #Do the predictions of all base models on the test data and use the averaged predictions as \n",
    "    #meta-features for the final prediction which is done by the meta-model\n",
    "    def predict(self, X):\n",
    "        meta_features = np.column_stack([\n",
    "            np.column_stack([model.predict(X) for model in base_models]).mean(axis=1)\n",
    "            for base_models in self.base_models_ ])\n",
    "        return self.meta_model_.predict(meta_features)"
   ]
  },
  {
   "cell_type": "code",
   "execution_count": 265,
   "id": "1d0c3357",
   "metadata": {},
   "outputs": [
    {
     "name": "stdout",
     "output_type": "stream",
     "text": [
      "Stacking Averaged models score: 0.1202 (0.0078)\n"
     ]
    }
   ],
   "source": [
    "stacked_averaged_models = StackingAveragedModels(base_models = (ENet, GBoost, KRR),\n",
    "                                                 meta_model = lasso)\n",
    "\n",
    "score = rmsle_cv(stacked_averaged_models)\n",
    "print(\"Stacking Averaged models score: {:.4f} ({:.4f})\".format(score.mean(), score.std()))"
   ]
  },
  {
   "cell_type": "code",
   "execution_count": 266,
   "id": "1e58982c",
   "metadata": {},
   "outputs": [],
   "source": [
    "def rmsle(y, y_pred):\n",
    "    return np.sqrt(mean_squared_error(y, y_pred))"
   ]
  },
  {
   "cell_type": "code",
   "execution_count": 267,
   "id": "40b369d7",
   "metadata": {},
   "outputs": [
    {
     "name": "stdout",
     "output_type": "stream",
     "text": [
      "0.06526357978669582\n"
     ]
    },
    {
     "name": "stderr",
     "output_type": "stream",
     "text": [
      "C:\\Users\\84909\\AppData\\Local\\Temp\\ipykernel_5512\\4067025024.py:3: RuntimeWarning: overflow encountered in expm1\n",
      "  stacked_pred = np.expm1(stacked_averaged_models.predict(test.values))\n"
     ]
    }
   ],
   "source": [
    "stacked_averaged_models.fit(train.values, y_train)\n",
    "stacked_train_pred = stacked_averaged_models.predict(train.values)\n",
    "stacked_pred = np.expm1(stacked_averaged_models.predict(test.values))\n",
    "print(rmsle(y_train, stacked_train_pred))"
   ]
  },
  {
   "cell_type": "code",
   "execution_count": 268,
   "id": "e486d848",
   "metadata": {},
   "outputs": [
    {
     "name": "stdout",
     "output_type": "stream",
     "text": [
      "0.091822632697368\n"
     ]
    }
   ],
   "source": [
    "model_xgb.fit(train, y_train)\n",
    "xgb_train_pred = model_xgb.predict(train)\n",
    "xgb_pred = np.expm1(model_xgb.predict(test))\n",
    "print(rmsle(y_train, xgb_train_pred))"
   ]
  },
  {
   "cell_type": "code",
   "execution_count": 269,
   "id": "8eb94862",
   "metadata": {
    "scrolled": true
   },
   "outputs": [
    {
     "name": "stdout",
     "output_type": "stream",
     "text": [
      "[LightGBM] [Warning] min_data_in_leaf is set=6, min_child_samples=20 will be ignored. Current value: min_data_in_leaf=6\n",
      "[LightGBM] [Warning] feature_fraction is set=0.2319, colsample_bytree=1.0 will be ignored. Current value: feature_fraction=0.2319\n",
      "[LightGBM] [Warning] min_sum_hessian_in_leaf is set=11, min_child_weight=0.001 will be ignored. Current value: min_sum_hessian_in_leaf=11\n",
      "[LightGBM] [Warning] bagging_fraction is set=0.8, subsample=1.0 will be ignored. Current value: bagging_fraction=0.8\n",
      "[LightGBM] [Warning] bagging_freq is set=5, subsample_freq=0 will be ignored. Current value: bagging_freq=5\n",
      "[LightGBM] [Warning] min_data_in_leaf is set=6, min_child_samples=20 will be ignored. Current value: min_data_in_leaf=6\n",
      "[LightGBM] [Warning] feature_fraction is set=0.2319, colsample_bytree=1.0 will be ignored. Current value: feature_fraction=0.2319\n",
      "[LightGBM] [Warning] min_sum_hessian_in_leaf is set=11, min_child_weight=0.001 will be ignored. Current value: min_sum_hessian_in_leaf=11\n",
      "[LightGBM] [Warning] bagging_fraction is set=0.8, subsample=1.0 will be ignored. Current value: bagging_fraction=0.8\n",
      "[LightGBM] [Warning] bagging_freq is set=5, subsample_freq=0 will be ignored. Current value: bagging_freq=5\n",
      "[LightGBM] [Info] Auto-choosing col-wise multi-threading, the overhead of testing was 0.001458 seconds.\n",
      "You can set `force_col_wise=true` to remove the overhead.\n",
      "[LightGBM] [Info] Total Bins 1022\n",
      "[LightGBM] [Info] Number of data points in the train set: 1458, number of used features: 66\n",
      "[LightGBM] [Info] Start training from score 12.024009\n",
      "[LightGBM] [Warning] min_data_in_leaf is set=6, min_child_samples=20 will be ignored. Current value: min_data_in_leaf=6\n",
      "[LightGBM] [Warning] feature_fraction is set=0.2319, colsample_bytree=1.0 will be ignored. Current value: feature_fraction=0.2319\n",
      "[LightGBM] [Warning] min_sum_hessian_in_leaf is set=11, min_child_weight=0.001 will be ignored. Current value: min_sum_hessian_in_leaf=11\n",
      "[LightGBM] [Warning] bagging_fraction is set=0.8, subsample=1.0 will be ignored. Current value: bagging_fraction=0.8\n",
      "[LightGBM] [Warning] bagging_freq is set=5, subsample_freq=0 will be ignored. Current value: bagging_freq=5\n",
      "[LightGBM] [Warning] min_data_in_leaf is set=6, min_child_samples=20 will be ignored. Current value: min_data_in_leaf=6\n",
      "[LightGBM] [Warning] feature_fraction is set=0.2319, colsample_bytree=1.0 will be ignored. Current value: feature_fraction=0.2319\n",
      "[LightGBM] [Warning] min_sum_hessian_in_leaf is set=11, min_child_weight=0.001 will be ignored. Current value: min_sum_hessian_in_leaf=11\n",
      "[LightGBM] [Warning] bagging_fraction is set=0.8, subsample=1.0 will be ignored. Current value: bagging_fraction=0.8\n",
      "[LightGBM] [Warning] bagging_freq is set=5, subsample_freq=0 will be ignored. Current value: bagging_freq=5\n",
      "0.08102358077377979\n"
     ]
    }
   ],
   "source": [
    "model_lgb.fit(train, y_train)\n",
    "lgb_train_pred = model_lgb.predict(train)\n",
    "lgb_pred = np.expm1(model_lgb.predict(test.values))\n",
    "print(rmsle(y_train, lgb_train_pred))"
   ]
  },
  {
   "cell_type": "code",
   "execution_count": 270,
   "id": "3d95caee",
   "metadata": {},
   "outputs": [
    {
     "name": "stdout",
     "output_type": "stream",
     "text": [
      "RMSLE score on train data:\n",
      "0.06928030771342936\n"
     ]
    }
   ],
   "source": [
    "'''RMSE on the entire Train data when averaging'''\n",
    "\n",
    "print('RMSLE score on train data:')\n",
    "print(rmsle(y_train,stacked_train_pred*0.70 +\n",
    "               xgb_train_pred*0.15 + lgb_train_pred*0.15 ))"
   ]
  },
  {
   "cell_type": "code",
   "execution_count": 271,
   "id": "f0d4943b",
   "metadata": {},
   "outputs": [],
   "source": [
    "ensemble = stacked_pred*0.70 + xgb_pred*0.15 + lgb_pred*0.15"
   ]
  }
 ],
 "metadata": {
  "kernelspec": {
   "display_name": "Python 3 (ipykernel)",
   "language": "python",
   "name": "python3"
  },
  "language_info": {
   "codemirror_mode": {
    "name": "ipython",
    "version": 3
   },
   "file_extension": ".py",
   "mimetype": "text/x-python",
   "name": "python",
   "nbconvert_exporter": "python",
   "pygments_lexer": "ipython3",
   "version": "3.9.16"
  }
 },
 "nbformat": 4,
 "nbformat_minor": 5
}
